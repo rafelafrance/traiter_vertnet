{
 "cells": [
  {
   "cell_type": "markdown",
   "metadata": {},
   "source": [
    "# Clean Data Extracted from VertNet"
   ]
  },
  {
   "cell_type": "code",
   "execution_count": 1,
   "metadata": {
    "ExecuteTime": {
     "end_time": "2020-08-12T16:23:27.374839Z",
     "start_time": "2020-08-12T16:23:27.371941Z"
    }
   },
   "outputs": [],
   "source": [
    "import sys\n",
    "sys.path.append('..')"
   ]
  },
  {
   "cell_type": "code",
   "execution_count": 2,
   "metadata": {
    "ExecuteTime": {
     "end_time": "2020-08-12T16:23:27.617132Z",
     "start_time": "2020-08-12T16:23:27.378658Z"
    }
   },
   "outputs": [],
   "source": [
    "import re\n",
    "from pathlib import Path\n",
    "from pprint import pp\n",
    "import json\n",
    "from collections import defaultdict\n",
    "from ipywidgets import interact\n",
    "from pprint import pprint\n",
    "from tqdm.notebook import tqdm\n",
    "import pandas as pd"
   ]
  },
  {
   "cell_type": "code",
   "execution_count": 3,
   "metadata": {
    "ExecuteTime": {
     "end_time": "2020-08-12T16:23:27.620750Z",
     "start_time": "2020-08-12T16:23:27.618279Z"
    }
   },
   "outputs": [],
   "source": [
    "DATA_DIR = Path('..') / 'data' / 'output'\n",
    "ARGS_DIR = Path('..') / 'args'\n",
    "\n",
    "BASE_NAME = 'all_mammals_2021-11-09'\n",
    "VER = 'a'\n",
    "JSONL = DATA_DIR / 'all_mammals_2021-11-09.jsonl'\n",
    "OUTPUT = DATA_DIR / f'{BASE_NAME}{VER}.csv'\n",
    "COUNTS = DATA_DIR / f'{BASE_NAME}{VER}_counts.csv'\n",
    "\n",
    "ARGS = ARGS_DIR / 'all_mammals.args'"
   ]
  },
  {
   "cell_type": "code",
   "execution_count": 4,
   "metadata": {},
   "outputs": [],
   "source": [
    "VOCAB_DIR = Path('..') / 'vertnet' / 'vocabulary'\n",
    "\n",
    "TERMS = VOCAB_DIR / 'life_stage.csv'"
   ]
  },
  {
   "cell_type": "markdown",
   "metadata": {},
   "source": [
    "## Get traits and other fields from the arguments"
   ]
  },
  {
   "cell_type": "code",
   "execution_count": 5,
   "metadata": {
    "ExecuteTime": {
     "end_time": "2020-08-12T16:23:27.634066Z",
     "start_time": "2020-08-12T16:23:27.621986Z"
    },
    "scrolled": true
   },
   "outputs": [],
   "source": [
    "TRAITS = [ln.strip().replace('--trait=', '')\n",
    "          for ln in open(ARGS).readlines() if ln.startswith('--trait=')]\n",
    "OTHERS = [ln.strip().replace('--extra-field=', '')\n",
    "          for ln in open(ARGS).readlines() if ln.startswith('--extra-field=')]"
   ]
  },
  {
   "cell_type": "markdown",
   "metadata": {},
   "source": [
    "## Read data"
   ]
  },
  {
   "cell_type": "code",
   "execution_count": 6,
   "metadata": {
    "ExecuteTime": {
     "end_time": "2020-08-12T16:23:29.337860Z",
     "start_time": "2020-08-12T16:23:27.641402Z"
    }
   },
   "outputs": [
    {
     "data": {
      "text/plain": [
       "649163"
      ]
     },
     "execution_count": 6,
     "metadata": {},
     "output_type": "execute_result"
    }
   ],
   "source": [
    "with open(JSONL) as json_file:\n",
    "    data = [json.loads(d) for d in json_file.readlines()]\n",
    "len(data)"
   ]
  },
  {
   "cell_type": "markdown",
   "metadata": {},
   "source": [
    "## Just keep the first value of a trait"
   ]
  },
  {
   "cell_type": "code",
   "execution_count": 7,
   "metadata": {},
   "outputs": [],
   "source": [
    "for row in data:\n",
    "    for trait_name in [t for t in TRAITS if t in row]:\n",
    "        row[trait_name] = row[trait_name][0]"
   ]
  },
  {
   "cell_type": "code",
   "execution_count": 8,
   "metadata": {},
   "outputs": [
    {
     "data": {
      "text/plain": [
       "{'catalognumber': '28211',\n",
       " 'continent': 'North America',\n",
       " 'country': 'Mexico',\n",
       " 'county': 'Manzanillo',\n",
       " 'decimallatitude': '19.180133',\n",
       " 'decimallongitude': '-104.159983',\n",
       " 'eventdate': '2001-01-10',\n",
       " 'fieldnotes': 'Yes',\n",
       " 'geodeticdatum': 'NAD83',\n",
       " 'georeferenceprotocol': 'Conversion',\n",
       " 'georeferenceverificationstatus': 'Verified by contributor',\n",
       " 'locality': '3 km WNW San Jose de Lumbert',\n",
       " 'occurrenceid': 'urn:catalog:OMNH:Mammals:28211',\n",
       " 'recordedby': 'Colima Field Expedition 2001',\n",
       " 'reproductivecondition': 'inactive',\n",
       " 'sex': 'female',\n",
       " 'verbatimcoordinates': '19 10.808N 104 09.599W',\n",
       " 'verbatimcoordinatesystem': 'Degrees decimal minutes',\n",
       " 'verbatimelevation': '480',\n",
       " 'verbatimeventdate': '2001-01-10',\n",
       " 'institutioncode': 'OMNH',\n",
       " 'collectioncode': 'Mammals',\n",
       " 'dynamicproperties': '{\"totalLengthInmm\":\"243\", \"tailLengthInmm\":\"146\", \"hindfootLengthInmm\":\"30\", \"earLengthInmm\":\"15\", \"weightIng\":\"47.1\"}',\n",
       " 'scientificname': 'Liomys pictus',\n",
       " 'body_mass': {'start': 100,\n",
       "  'end': 116,\n",
       "  'units': 'g',\n",
       "  'value': 47.1,\n",
       "  'units_inferred': False,\n",
       "  'field': 'dynamicproperties'},\n",
       " 'ear_length': {'start': 78,\n",
       "  'end': 96,\n",
       "  'units': 'mm',\n",
       "  'value': 15.0,\n",
       "  'units_inferred': False,\n",
       "  'field': 'dynamicproperties'},\n",
       " 'hind_foot_length': {'start': 51,\n",
       "  'end': 74,\n",
       "  'units': 'mm',\n",
       "  'value': 30.0,\n",
       "  'units_inferred': False,\n",
       "  'field': 'dynamicproperties'},\n",
       " 'tail_length': {'start': 27,\n",
       "  'end': 47,\n",
       "  'units': 'mm',\n",
       "  'value': 146.0,\n",
       "  'units_inferred': False,\n",
       "  'field': 'dynamicproperties'},\n",
       " 'total_length': {'start': 2,\n",
       "  'end': 23,\n",
       "  'units': 'mm',\n",
       "  'value': 243.0,\n",
       "  'units_inferred': False,\n",
       "  'field': 'dynamicproperties'}}"
      ]
     },
     "execution_count": 8,
     "metadata": {},
     "output_type": "execute_result"
    }
   ],
   "source": [
    "data[0]"
   ]
  },
  {
   "cell_type": "markdown",
   "metadata": {},
   "source": [
    "## Normalize Life Stage"
   ]
  },
  {
   "cell_type": "code",
   "execution_count": 9,
   "metadata": {},
   "outputs": [
    {
     "name": "stdout",
     "output_type": "stream",
     "text": [
      "(314, 5)\n"
     ]
    },
    {
     "data": {
      "text/html": [
       "<div>\n",
       "<style scoped>\n",
       "    .dataframe tbody tr th:only-of-type {\n",
       "        vertical-align: middle;\n",
       "    }\n",
       "\n",
       "    .dataframe tbody tr th {\n",
       "        vertical-align: top;\n",
       "    }\n",
       "\n",
       "    .dataframe thead th {\n",
       "        text-align: right;\n",
       "    }\n",
       "</style>\n",
       "<table border=\"1\" class=\"dataframe\">\n",
       "  <thead>\n",
       "    <tr style=\"text-align: right;\">\n",
       "      <th></th>\n",
       "      <th>label</th>\n",
       "      <th>pattern</th>\n",
       "      <th>attr</th>\n",
       "      <th>replace</th>\n",
       "      <th>notes</th>\n",
       "    </tr>\n",
       "  </thead>\n",
       "  <tbody>\n",
       "    <tr>\n",
       "      <th>0</th>\n",
       "      <td>life_stage</td>\n",
       "      <td>[imm]</td>\n",
       "      <td>lower</td>\n",
       "      <td>Juvenile</td>\n",
       "      <td></td>\n",
       "    </tr>\n",
       "    <tr>\n",
       "      <th>1</th>\n",
       "      <td>life_stage</td>\n",
       "      <td>1 mo</td>\n",
       "      <td>lower</td>\n",
       "      <td>Juvenile</td>\n",
       "      <td></td>\n",
       "    </tr>\n",
       "    <tr>\n",
       "      <th>2</th>\n",
       "      <td>life_stage</td>\n",
       "      <td>100% ossified</td>\n",
       "      <td>lower</td>\n",
       "      <td>Adult</td>\n",
       "      <td></td>\n",
       "    </tr>\n",
       "    <tr>\n",
       "      <th>3</th>\n",
       "      <td>life_stage</td>\n",
       "      <td>1st winter</td>\n",
       "      <td>lower</td>\n",
       "      <td>Juvenile</td>\n",
       "      <td></td>\n",
       "    </tr>\n",
       "    <tr>\n",
       "      <th>4</th>\n",
       "      <td>life_stage</td>\n",
       "      <td>1st year</td>\n",
       "      <td>lower</td>\n",
       "      <td>Juvenile</td>\n",
       "      <td></td>\n",
       "    </tr>\n",
       "  </tbody>\n",
       "</table>\n",
       "</div>"
      ],
      "text/plain": [
       "        label        pattern   attr   replace notes\n",
       "0  life_stage          [imm]  lower  Juvenile      \n",
       "1  life_stage           1 mo  lower  Juvenile      \n",
       "2  life_stage  100% ossified  lower     Adult      \n",
       "3  life_stage     1st winter  lower  Juvenile      \n",
       "4  life_stage       1st year  lower  Juvenile      "
      ]
     },
     "execution_count": 9,
     "metadata": {},
     "output_type": "execute_result"
    }
   ],
   "source": [
    "terms = pd.read_csv(TERMS).fillna('')\n",
    "\n",
    "print(terms.shape)\n",
    "terms.head()"
   ]
  },
  {
   "cell_type": "code",
   "execution_count": 10,
   "metadata": {},
   "outputs": [
    {
     "name": "stdout",
     "output_type": "stream",
     "text": [
      "(314, 5)\n"
     ]
    },
    {
     "data": {
      "text/html": [
       "<div>\n",
       "<style scoped>\n",
       "    .dataframe tbody tr th:only-of-type {\n",
       "        vertical-align: middle;\n",
       "    }\n",
       "\n",
       "    .dataframe tbody tr th {\n",
       "        vertical-align: top;\n",
       "    }\n",
       "\n",
       "    .dataframe thead th {\n",
       "        text-align: right;\n",
       "    }\n",
       "</style>\n",
       "<table border=\"1\" class=\"dataframe\">\n",
       "  <thead>\n",
       "    <tr style=\"text-align: right;\">\n",
       "      <th></th>\n",
       "      <th>label</th>\n",
       "      <th>pattern</th>\n",
       "      <th>attr</th>\n",
       "      <th>replace</th>\n",
       "      <th>notes</th>\n",
       "    </tr>\n",
       "  </thead>\n",
       "  <tbody>\n",
       "    <tr>\n",
       "      <th>0</th>\n",
       "      <td>life_stage</td>\n",
       "      <td>[imm]</td>\n",
       "      <td>lower</td>\n",
       "      <td>Juvenile</td>\n",
       "      <td></td>\n",
       "    </tr>\n",
       "    <tr>\n",
       "      <th>1</th>\n",
       "      <td>life_stage</td>\n",
       "      <td>1 mo</td>\n",
       "      <td>lower</td>\n",
       "      <td>Juvenile</td>\n",
       "      <td></td>\n",
       "    </tr>\n",
       "    <tr>\n",
       "      <th>2</th>\n",
       "      <td>life_stage</td>\n",
       "      <td>100% ossified</td>\n",
       "      <td>lower</td>\n",
       "      <td>Adult</td>\n",
       "      <td></td>\n",
       "    </tr>\n",
       "    <tr>\n",
       "      <th>3</th>\n",
       "      <td>life_stage</td>\n",
       "      <td>1st winter</td>\n",
       "      <td>lower</td>\n",
       "      <td>Juvenile</td>\n",
       "      <td></td>\n",
       "    </tr>\n",
       "    <tr>\n",
       "      <th>4</th>\n",
       "      <td>life_stage</td>\n",
       "      <td>1st year</td>\n",
       "      <td>lower</td>\n",
       "      <td>Juvenile</td>\n",
       "      <td></td>\n",
       "    </tr>\n",
       "  </tbody>\n",
       "</table>\n",
       "</div>"
      ],
      "text/plain": [
       "        label        pattern   attr   replace notes\n",
       "0  life_stage          [imm]  lower  Juvenile      \n",
       "1  life_stage           1 mo  lower  Juvenile      \n",
       "2  life_stage  100% ossified  lower     Adult      \n",
       "3  life_stage     1st winter  lower  Juvenile      \n",
       "4  life_stage       1st year  lower  Juvenile      "
      ]
     },
     "execution_count": 10,
     "metadata": {},
     "output_type": "execute_result"
    }
   ],
   "source": [
    "terms = terms.drop_duplicates()\n",
    "\n",
    "print(terms.shape)\n",
    "terms.head()"
   ]
  },
  {
   "cell_type": "code",
   "execution_count": 11,
   "metadata": {},
   "outputs": [
    {
     "name": "stdout",
     "output_type": "stream",
     "text": [
      "(314, 5)\n"
     ]
    },
    {
     "data": {
      "text/html": [
       "<div>\n",
       "<style scoped>\n",
       "    .dataframe tbody tr th:only-of-type {\n",
       "        vertical-align: middle;\n",
       "    }\n",
       "\n",
       "    .dataframe tbody tr th {\n",
       "        vertical-align: top;\n",
       "    }\n",
       "\n",
       "    .dataframe thead th {\n",
       "        text-align: right;\n",
       "    }\n",
       "</style>\n",
       "<table border=\"1\" class=\"dataframe\">\n",
       "  <thead>\n",
       "    <tr style=\"text-align: right;\">\n",
       "      <th></th>\n",
       "      <th>label</th>\n",
       "      <th>pattern</th>\n",
       "      <th>attr</th>\n",
       "      <th>replace</th>\n",
       "      <th>notes</th>\n",
       "    </tr>\n",
       "  </thead>\n",
       "  <tbody>\n",
       "    <tr>\n",
       "      <th>0</th>\n",
       "      <td>life_stage</td>\n",
       "      <td>[imm]</td>\n",
       "      <td>lower</td>\n",
       "      <td>Juvenile</td>\n",
       "      <td></td>\n",
       "    </tr>\n",
       "    <tr>\n",
       "      <th>1</th>\n",
       "      <td>life_stage</td>\n",
       "      <td>1 mo</td>\n",
       "      <td>lower</td>\n",
       "      <td>Juvenile</td>\n",
       "      <td></td>\n",
       "    </tr>\n",
       "    <tr>\n",
       "      <th>2</th>\n",
       "      <td>life_stage</td>\n",
       "      <td>100% ossified</td>\n",
       "      <td>lower</td>\n",
       "      <td>Adult</td>\n",
       "      <td></td>\n",
       "    </tr>\n",
       "    <tr>\n",
       "      <th>3</th>\n",
       "      <td>life_stage</td>\n",
       "      <td>1st winter</td>\n",
       "      <td>lower</td>\n",
       "      <td>Juvenile</td>\n",
       "      <td></td>\n",
       "    </tr>\n",
       "    <tr>\n",
       "      <th>4</th>\n",
       "      <td>life_stage</td>\n",
       "      <td>1st year</td>\n",
       "      <td>lower</td>\n",
       "      <td>Juvenile</td>\n",
       "      <td></td>\n",
       "    </tr>\n",
       "  </tbody>\n",
       "</table>\n",
       "</div>"
      ],
      "text/plain": [
       "        label        pattern   attr   replace notes\n",
       "0  life_stage          [imm]  lower  Juvenile      \n",
       "1  life_stage           1 mo  lower  Juvenile      \n",
       "2  life_stage  100% ossified  lower     Adult      \n",
       "3  life_stage     1st winter  lower  Juvenile      \n",
       "4  life_stage       1st year  lower  Juvenile      "
      ]
     },
     "execution_count": 11,
     "metadata": {},
     "output_type": "execute_result"
    }
   ],
   "source": [
    "terms = terms[terms['replace'] != 'NS']\n",
    "\n",
    "print(terms.shape)\n",
    "terms.head()"
   ]
  },
  {
   "cell_type": "code",
   "execution_count": 12,
   "metadata": {},
   "outputs": [
    {
     "data": {
      "text/plain": [
       "314"
      ]
     },
     "execution_count": 12,
     "metadata": {},
     "output_type": "execute_result"
    }
   ],
   "source": [
    "life_stages = {r['pattern']: r['replace'] for _, r in terms.iterrows()}\n",
    "len(life_stages)"
   ]
  },
  {
   "cell_type": "code",
   "execution_count": 13,
   "metadata": {},
   "outputs": [],
   "source": [
    "for row in data:\n",
    "    lifestage = row.get('lifestage')\n",
    "    if lifestage:\n",
    "        row['lifestage_cor'] = life_stages.get(lifestage, 'NS')"
   ]
  },
  {
   "cell_type": "code",
   "execution_count": 14,
   "metadata": {},
   "outputs": [
    {
     "data": {
      "text/plain": [
       "{'catalognumber': '90252',\n",
       " 'continent': 'North America',\n",
       " 'country': 'Canada',\n",
       " 'county': 'Algoma',\n",
       " 'decimallatitude': '47.33719',\n",
       " 'decimallongitude': '-84.56176',\n",
       " 'eventdate': '1984-07-29',\n",
       " 'geodeticdatum': 'UTMG NAD27, Decimal Degrees NAD83',\n",
       " 'georeferencedby': 'Susan M Woodward, Janet Sit (ROM)',\n",
       " 'georeferenceddate': '20090424',\n",
       " 'georeferenceprotocol': 'MaNIS/HerpNet/ORNIS Georeferencing Guidelines, GBIF Best Practices',\n",
       " 'georeferencesources': 'Energy, Mines and Resources Canada, Series A751, Agawa Bay, 41 N/07, 1:50,000, Edition 3, 1995',\n",
       " 'georeferenceverificationstatus': 'unverified',\n",
       " 'highergeography': 'North America; Canada; Ontario; Algoma',\n",
       " 'lifestage': 'adult',\n",
       " 'locality': \"Lake Superior Provincial Park, Near Frater's Creek, Trapline 09\",\n",
       " 'occurrenceid': 'URI:catalog:ROM:Mammals:90252',\n",
       " 'recordedby': 'Gibson, JS',\n",
       " 'reproductivecondition': 'no emb; lactating',\n",
       " 'sex': 'female',\n",
       " 'verbatimcoordinates': '472000 N;0843400 W',\n",
       " 'verbatimeventdate': '19840729',\n",
       " 'verbatimlocality': \"Lake Superior Provincial Park, Near Frater's Creek, Trapline 09\",\n",
       " 'institutioncode': 'ROM',\n",
       " 'collectioncode': 'Mammals',\n",
       " 'scientificname': 'Sorex cinereus',\n",
       " 'embryo_count': {'start': 0,\n",
       "  'end': 6,\n",
       "  'value': 0,\n",
       "  'field': 'reproductivecondition'},\n",
       " 'lactation_state': {'value': 'lactating',\n",
       "  'start': 8,\n",
       "  'end': 17,\n",
       "  'field': 'reproductivecondition'},\n",
       " 'lifestage_cor': 'Adult'}"
      ]
     },
     "execution_count": 14,
     "metadata": {},
     "output_type": "execute_result"
    }
   ],
   "source": [
    "data[5]"
   ]
  },
  {
   "cell_type": "markdown",
   "metadata": {},
   "source": [
    "## Get sex notations"
   ]
  },
  {
   "cell_type": "code",
   "execution_count": 15,
   "metadata": {
    "ExecuteTime": {
     "end_time": "2020-08-12T16:23:29.382802Z",
     "start_time": "2020-08-12T16:23:29.344054Z"
    },
    "scrolled": true
   },
   "outputs": [],
   "source": [
    "sexes = set()\n",
    "for row in data:\n",
    "    sex = row.get('sex', '')\n",
    "    if isinstance(sex, list):\n",
    "        sex = sex[0]\n",
    "    if isinstance(sex, dict):\n",
    "        sex = sex.get('value', '')\n",
    "    sexes.add(sex)"
   ]
  },
  {
   "cell_type": "markdown",
   "metadata": {},
   "source": [
    "## Update sex fields"
   ]
  },
  {
   "cell_type": "code",
   "execution_count": 16,
   "metadata": {},
   "outputs": [],
   "source": [
    "for row in data:\n",
    "    sex = row.get('sex', '')\n",
    "    if isinstance(sex, list):\n",
    "        sex = sex[0]\n",
    "    if isinstance(sex, dict):\n",
    "        sex = sex.get('value', '')\n",
    "    sex = re.split(r'[;,]', sex)\n",
    "    sex = {s.strip() for s in sex}\n",
    "    row['sex'] = '; '.join(sex)"
   ]
  },
  {
   "cell_type": "markdown",
   "metadata": {},
   "source": [
    "## Remove female traits from males and vice versa"
   ]
  },
  {
   "cell_type": "code",
   "execution_count": 17,
   "metadata": {},
   "outputs": [],
   "source": [
    "MALE = \"\"\" testes_size testes_state \"\"\".split()\n",
    "\n",
    "FEMALE = \"\"\" embryo_count embryo_length lactation_state\n",
    "    nipple_count nipple_state ovaries_size ovaries_state\n",
    "    placental_scar_count pregnancy_state \"\"\".split()"
   ]
  },
  {
   "cell_type": "code",
   "execution_count": 18,
   "metadata": {
    "ExecuteTime": {
     "end_time": "2020-08-12T16:23:29.453033Z",
     "start_time": "2020-08-12T16:23:29.384300Z"
    }
   },
   "outputs": [],
   "source": [
    "for row in data:\n",
    "    sex = row.get('sex')\n",
    "\n",
    "    if not sex or ';' in sex or sex[0] not in 'fm':\n",
    "        continue\n",
    "\n",
    "    remove = MALE if sex[0] == 'f' else FEMALE\n",
    "    for key in remove:\n",
    "        if key in row:\n",
    "            del row[key]"
   ]
  },
  {
   "cell_type": "markdown",
   "metadata": {},
   "source": [
    "## Only sex traits in reproductive condition"
   ]
  },
  {
   "cell_type": "code",
   "execution_count": 19,
   "metadata": {
    "ExecuteTime": {
     "end_time": "2020-08-12T16:23:29.553556Z",
     "start_time": "2020-08-12T16:23:29.454313Z"
    }
   },
   "outputs": [],
   "source": [
    "REPRO = MALE + FEMALE\n",
    "BODY = [t for t in TRAITS if t not in REPRO]\n",
    "\n",
    "for row in data:\n",
    "    for key in [t for t in BODY if t in row]:\n",
    "        # Remove body traits found in reproductive condition\n",
    "        if row[key]['field'] == 'reproductivecondition':\n",
    "            del row[key]"
   ]
  },
  {
   "cell_type": "markdown",
   "metadata": {},
   "source": [
    "## Remove empty traits"
   ]
  },
  {
   "cell_type": "code",
   "execution_count": 20,
   "metadata": {
    "ExecuteTime": {
     "end_time": "2020-08-12T16:23:29.686791Z",
     "start_time": "2020-08-12T16:23:29.554720Z"
    }
   },
   "outputs": [],
   "source": [
    "for row in data:\n",
    "    for key in TRAITS:\n",
    "        if key in row and not row[key]:\n",
    "            del row[key]"
   ]
  },
  {
   "cell_type": "markdown",
   "metadata": {},
   "source": [
    "## Remove empty records"
   ]
  },
  {
   "cell_type": "code",
   "execution_count": 21,
   "metadata": {
    "ExecuteTime": {
     "end_time": "2020-08-12T16:23:29.760301Z",
     "start_time": "2020-08-12T16:23:29.688260Z"
    }
   },
   "outputs": [
    {
     "name": "stdout",
     "output_type": "stream",
     "text": [
      "649163\n",
      "645609\n"
     ]
    }
   ],
   "source": [
    "print(len(data))\n",
    "\n",
    "data = [d for d in data if any(d.get(t) for t in TRAITS)]\n",
    "\n",
    "print(len(data))"
   ]
  },
  {
   "cell_type": "markdown",
   "metadata": {},
   "source": [
    "## Separate gonad length and width measurements"
   ]
  },
  {
   "cell_type": "code",
   "execution_count": 22,
   "metadata": {},
   "outputs": [],
   "source": [
    "GONAD_SIZE = \"\"\" testes_size ovaries_size \"\"\".split()\n",
    "\n",
    "\n",
    "for row in data:\n",
    "    for name in [t for t in GONAD_SIZE if t in row]:\n",
    "        if isinstance(row[name]['value'], list):\n",
    "            row[name]['length'], row[name]['width'] = row[name]['value']\n",
    "        elif row[name].get('dimension') == 'width':\n",
    "            row[name]['length'] = ''\n",
    "            row[name]['width'] = row[name]['value']\n",
    "        else:\n",
    "            row[name]['length'] = row[name]['value']\n",
    "            row[name]['width'] = ''\n",
    "\n",
    "        del row[name]['value']"
   ]
  },
  {
   "cell_type": "code",
   "execution_count": 23,
   "metadata": {},
   "outputs": [
    {
     "data": {
      "text/plain": [
       "{'catalognumber': '32114',\n",
       " 'continent': 'North America',\n",
       " 'country': 'United States',\n",
       " 'county': 'Carroll',\n",
       " 'decimallatitude': '35.8640556',\n",
       " 'decimallongitude': '-88.6769167',\n",
       " 'eventdate': '2003-10-08',\n",
       " 'fieldnotes': 'Yes',\n",
       " 'geodeticdatum': 'NAD83',\n",
       " 'georeferenceprotocol': 'Conversion',\n",
       " 'georeferencesources': 'MaNIS [http://manisnet.org/gci2.html]',\n",
       " 'georeferenceverificationstatus': 'Verified by contributor',\n",
       " 'locality': 'Milan Army Ammunition Plant, Milan',\n",
       " 'occurrenceid': 'urn:catalog:OMNH:Mammals:32114',\n",
       " 'recordedby': 'Kennedy, M. L., et al.',\n",
       " 'reproductivecondition': 'TS=20x11',\n",
       " 'sex': 'male',\n",
       " 'verbatimcoordinates': '35 51 50.6N 88 40 36.9W',\n",
       " 'verbatimcoordinatesystem': 'Degrees minutes seconds',\n",
       " 'verbatimeventdate': '2003-10-08',\n",
       " 'institutioncode': 'OMNH',\n",
       " 'collectioncode': 'Mammals',\n",
       " 'dynamicproperties': '{\"totalLengthInmm\":\"225\", \"tailLengthInmm\":\"88\", \"hindfootLengthInmm\":\"32\", \"earLengthInmm\":\"18\", \"weightIng\":\"78\"}',\n",
       " 'scientificname': 'Sigmodon hispidus',\n",
       " 'body_mass': {'start': 99,\n",
       "  'end': 113,\n",
       "  'units': 'g',\n",
       "  'value': 78.0,\n",
       "  'units_inferred': False,\n",
       "  'field': 'dynamicproperties'},\n",
       " 'ear_length': {'start': 77,\n",
       "  'end': 95,\n",
       "  'units': 'mm',\n",
       "  'value': 18.0,\n",
       "  'units_inferred': False,\n",
       "  'field': 'dynamicproperties'},\n",
       " 'hind_foot_length': {'start': 50,\n",
       "  'end': 73,\n",
       "  'units': 'mm',\n",
       "  'value': 32.0,\n",
       "  'units_inferred': False,\n",
       "  'field': 'dynamicproperties'},\n",
       " 'tail_length': {'start': 27,\n",
       "  'end': 46,\n",
       "  'units': 'mm',\n",
       "  'value': 88.0,\n",
       "  'units_inferred': False,\n",
       "  'field': 'dynamicproperties'},\n",
       " 'testes_size': {'start': 0,\n",
       "  'end': 8,\n",
       "  'units': None,\n",
       "  'units_inferred': True,\n",
       "  'field': 'reproductivecondition',\n",
       "  'length': 20.0,\n",
       "  'width': 11.0},\n",
       " 'total_length': {'start': 2,\n",
       "  'end': 23,\n",
       "  'units': 'mm',\n",
       "  'value': 225.0,\n",
       "  'units_inferred': False,\n",
       "  'field': 'dynamicproperties'}}"
      ]
     },
     "execution_count": 23,
     "metadata": {},
     "output_type": "execute_result"
    }
   ],
   "source": [
    "data[2]"
   ]
  },
  {
   "cell_type": "markdown",
   "metadata": {},
   "source": [
    "## Add a binomial to the data"
   ]
  },
  {
   "cell_type": "code",
   "execution_count": 24,
   "metadata": {},
   "outputs": [],
   "source": [
    "for row in data:\n",
    "    binomial = row.get('scientificname', '').split()[:2]\n",
    "    binomial = ' '.join(binomial)\n",
    "    row['binomial'] = binomial"
   ]
  },
  {
   "cell_type": "code",
   "execution_count": 25,
   "metadata": {},
   "outputs": [
    {
     "data": {
      "text/plain": [
       "{'catalognumber': '32114',\n",
       " 'continent': 'North America',\n",
       " 'country': 'United States',\n",
       " 'county': 'Carroll',\n",
       " 'decimallatitude': '35.8640556',\n",
       " 'decimallongitude': '-88.6769167',\n",
       " 'eventdate': '2003-10-08',\n",
       " 'fieldnotes': 'Yes',\n",
       " 'geodeticdatum': 'NAD83',\n",
       " 'georeferenceprotocol': 'Conversion',\n",
       " 'georeferencesources': 'MaNIS [http://manisnet.org/gci2.html]',\n",
       " 'georeferenceverificationstatus': 'Verified by contributor',\n",
       " 'locality': 'Milan Army Ammunition Plant, Milan',\n",
       " 'occurrenceid': 'urn:catalog:OMNH:Mammals:32114',\n",
       " 'recordedby': 'Kennedy, M. L., et al.',\n",
       " 'reproductivecondition': 'TS=20x11',\n",
       " 'sex': 'male',\n",
       " 'verbatimcoordinates': '35 51 50.6N 88 40 36.9W',\n",
       " 'verbatimcoordinatesystem': 'Degrees minutes seconds',\n",
       " 'verbatimeventdate': '2003-10-08',\n",
       " 'institutioncode': 'OMNH',\n",
       " 'collectioncode': 'Mammals',\n",
       " 'dynamicproperties': '{\"totalLengthInmm\":\"225\", \"tailLengthInmm\":\"88\", \"hindfootLengthInmm\":\"32\", \"earLengthInmm\":\"18\", \"weightIng\":\"78\"}',\n",
       " 'scientificname': 'Sigmodon hispidus',\n",
       " 'body_mass': {'start': 99,\n",
       "  'end': 113,\n",
       "  'units': 'g',\n",
       "  'value': 78.0,\n",
       "  'units_inferred': False,\n",
       "  'field': 'dynamicproperties'},\n",
       " 'ear_length': {'start': 77,\n",
       "  'end': 95,\n",
       "  'units': 'mm',\n",
       "  'value': 18.0,\n",
       "  'units_inferred': False,\n",
       "  'field': 'dynamicproperties'},\n",
       " 'hind_foot_length': {'start': 50,\n",
       "  'end': 73,\n",
       "  'units': 'mm',\n",
       "  'value': 32.0,\n",
       "  'units_inferred': False,\n",
       "  'field': 'dynamicproperties'},\n",
       " 'tail_length': {'start': 27,\n",
       "  'end': 46,\n",
       "  'units': 'mm',\n",
       "  'value': 88.0,\n",
       "  'units_inferred': False,\n",
       "  'field': 'dynamicproperties'},\n",
       " 'testes_size': {'start': 0,\n",
       "  'end': 8,\n",
       "  'units': None,\n",
       "  'units_inferred': True,\n",
       "  'field': 'reproductivecondition',\n",
       "  'length': 20.0,\n",
       "  'width': 11.0},\n",
       " 'total_length': {'start': 2,\n",
       "  'end': 23,\n",
       "  'units': 'mm',\n",
       "  'value': 225.0,\n",
       "  'units_inferred': False,\n",
       "  'field': 'dynamicproperties'},\n",
       " 'binomial': 'Sigmodon hispidus'}"
      ]
     },
     "execution_count": 25,
     "metadata": {},
     "output_type": "execute_result"
    }
   ],
   "source": [
    "data[2]"
   ]
  },
  {
   "cell_type": "markdown",
   "metadata": {},
   "source": [
    "## Count extracts by binomial"
   ]
  },
  {
   "cell_type": "code",
   "execution_count": 26,
   "metadata": {},
   "outputs": [],
   "source": [
    "binomials = defaultdict(lambda: defaultdict(int))\n",
    "\n",
    "for row in data:\n",
    "    for trait_name in TRAITS:\n",
    "        if row.get(trait_name):\n",
    "            binomials[row['binomial']][trait_name] += 1"
   ]
  },
  {
   "cell_type": "code",
   "execution_count": 27,
   "metadata": {},
   "outputs": [],
   "source": [
    "for binomial, count in binomials.items():\n",
    "    count['binomial'] = binomial"
   ]
  },
  {
   "cell_type": "code",
   "execution_count": 28,
   "metadata": {},
   "outputs": [],
   "source": [
    "df = pd.DataFrame(binomials.values()).fillna(0)\n",
    "df = df.set_index('binomial')\n",
    "df = df.astype(int)\n",
    "df = df.sort_index()"
   ]
  },
  {
   "cell_type": "code",
   "execution_count": 29,
   "metadata": {},
   "outputs": [],
   "source": [
    "df.to_csv(COUNTS)"
   ]
  },
  {
   "cell_type": "code",
   "execution_count": 30,
   "metadata": {},
   "outputs": [
    {
     "data": {
      "text/html": [
       "<div>\n",
       "<style scoped>\n",
       "    .dataframe tbody tr th:only-of-type {\n",
       "        vertical-align: middle;\n",
       "    }\n",
       "\n",
       "    .dataframe tbody tr th {\n",
       "        vertical-align: top;\n",
       "    }\n",
       "\n",
       "    .dataframe thead th {\n",
       "        text-align: right;\n",
       "    }\n",
       "</style>\n",
       "<table border=\"1\" class=\"dataframe\">\n",
       "  <thead>\n",
       "    <tr style=\"text-align: right;\">\n",
       "      <th></th>\n",
       "      <th>body_mass</th>\n",
       "      <th>ear_length</th>\n",
       "      <th>hind_foot_length</th>\n",
       "      <th>tail_length</th>\n",
       "      <th>total_length</th>\n",
       "      <th>embryo_count</th>\n",
       "      <th>lactation_state</th>\n",
       "      <th>testes_size</th>\n",
       "      <th>pregnancy_state</th>\n",
       "      <th>embryo_length</th>\n",
       "      <th>...</th>\n",
       "      <th>nipple_state</th>\n",
       "      <th>placental_scar_count</th>\n",
       "      <th>placental_scar_state</th>\n",
       "      <th>vagina_state</th>\n",
       "      <th>nipple_count</th>\n",
       "      <th>nipples_enlarged</th>\n",
       "      <th>ovaries_size</th>\n",
       "      <th>ovaries_state</th>\n",
       "      <th>forearm_length</th>\n",
       "      <th>tragus_length</th>\n",
       "    </tr>\n",
       "    <tr>\n",
       "      <th>binomial</th>\n",
       "      <th></th>\n",
       "      <th></th>\n",
       "      <th></th>\n",
       "      <th></th>\n",
       "      <th></th>\n",
       "      <th></th>\n",
       "      <th></th>\n",
       "      <th></th>\n",
       "      <th></th>\n",
       "      <th></th>\n",
       "      <th></th>\n",
       "      <th></th>\n",
       "      <th></th>\n",
       "      <th></th>\n",
       "      <th></th>\n",
       "      <th></th>\n",
       "      <th></th>\n",
       "      <th></th>\n",
       "      <th></th>\n",
       "      <th></th>\n",
       "      <th></th>\n",
       "    </tr>\n",
       "  </thead>\n",
       "  <tbody>\n",
       "    <tr>\n",
       "      <th></th>\n",
       "      <td>6</td>\n",
       "      <td>10</td>\n",
       "      <td>10</td>\n",
       "      <td>10</td>\n",
       "      <td>12</td>\n",
       "      <td>2</td>\n",
       "      <td>0</td>\n",
       "      <td>2</td>\n",
       "      <td>0</td>\n",
       "      <td>0</td>\n",
       "      <td>...</td>\n",
       "      <td>1</td>\n",
       "      <td>0</td>\n",
       "      <td>0</td>\n",
       "      <td>0</td>\n",
       "      <td>0</td>\n",
       "      <td>0</td>\n",
       "      <td>0</td>\n",
       "      <td>0</td>\n",
       "      <td>0</td>\n",
       "      <td>0</td>\n",
       "    </tr>\n",
       "    <tr>\n",
       "      <th>(new SW</th>\n",
       "      <td>7</td>\n",
       "      <td>7</td>\n",
       "      <td>7</td>\n",
       "      <td>7</td>\n",
       "      <td>7</td>\n",
       "      <td>0</td>\n",
       "      <td>0</td>\n",
       "      <td>0</td>\n",
       "      <td>0</td>\n",
       "      <td>0</td>\n",
       "      <td>...</td>\n",
       "      <td>0</td>\n",
       "      <td>0</td>\n",
       "      <td>0</td>\n",
       "      <td>0</td>\n",
       "      <td>0</td>\n",
       "      <td>0</td>\n",
       "      <td>0</td>\n",
       "      <td>0</td>\n",
       "      <td>0</td>\n",
       "      <td>0</td>\n",
       "    </tr>\n",
       "    <tr>\n",
       "      <th>Aarat</th>\n",
       "      <td>1</td>\n",
       "      <td>2</td>\n",
       "      <td>2</td>\n",
       "      <td>2</td>\n",
       "      <td>2</td>\n",
       "      <td>0</td>\n",
       "      <td>0</td>\n",
       "      <td>0</td>\n",
       "      <td>0</td>\n",
       "      <td>0</td>\n",
       "      <td>...</td>\n",
       "      <td>0</td>\n",
       "      <td>0</td>\n",
       "      <td>0</td>\n",
       "      <td>0</td>\n",
       "      <td>0</td>\n",
       "      <td>0</td>\n",
       "      <td>0</td>\n",
       "      <td>0</td>\n",
       "      <td>0</td>\n",
       "      <td>0</td>\n",
       "    </tr>\n",
       "    <tr>\n",
       "      <th>Abelmoschomys simpsoni</th>\n",
       "      <td>0</td>\n",
       "      <td>0</td>\n",
       "      <td>0</td>\n",
       "      <td>0</td>\n",
       "      <td>0</td>\n",
       "      <td>0</td>\n",
       "      <td>0</td>\n",
       "      <td>0</td>\n",
       "      <td>0</td>\n",
       "      <td>0</td>\n",
       "      <td>...</td>\n",
       "      <td>0</td>\n",
       "      <td>0</td>\n",
       "      <td>0</td>\n",
       "      <td>0</td>\n",
       "      <td>0</td>\n",
       "      <td>1</td>\n",
       "      <td>0</td>\n",
       "      <td>0</td>\n",
       "      <td>0</td>\n",
       "      <td>0</td>\n",
       "    </tr>\n",
       "    <tr>\n",
       "      <th>Abeomelomys sevia</th>\n",
       "      <td>3</td>\n",
       "      <td>4</td>\n",
       "      <td>4</td>\n",
       "      <td>4</td>\n",
       "      <td>4</td>\n",
       "      <td>0</td>\n",
       "      <td>0</td>\n",
       "      <td>0</td>\n",
       "      <td>0</td>\n",
       "      <td>0</td>\n",
       "      <td>...</td>\n",
       "      <td>0</td>\n",
       "      <td>0</td>\n",
       "      <td>0</td>\n",
       "      <td>0</td>\n",
       "      <td>0</td>\n",
       "      <td>0</td>\n",
       "      <td>0</td>\n",
       "      <td>0</td>\n",
       "      <td>0</td>\n",
       "      <td>0</td>\n",
       "    </tr>\n",
       "  </tbody>\n",
       "</table>\n",
       "<p>5 rows × 22 columns</p>\n",
       "</div>"
      ],
      "text/plain": [
       "                        body_mass  ear_length  hind_foot_length  tail_length  \\\n",
       "binomial                                                                       \n",
       "                                6          10                10           10   \n",
       "(new SW                         7           7                 7            7   \n",
       "Aarat                           1           2                 2            2   \n",
       "Abelmoschomys simpsoni          0           0                 0            0   \n",
       "Abeomelomys sevia               3           4                 4            4   \n",
       "\n",
       "                        total_length  embryo_count  lactation_state  \\\n",
       "binomial                                                              \n",
       "                                  12             2                0   \n",
       "(new SW                            7             0                0   \n",
       "Aarat                              2             0                0   \n",
       "Abelmoschomys simpsoni             0             0                0   \n",
       "Abeomelomys sevia                  4             0                0   \n",
       "\n",
       "                        testes_size  pregnancy_state  embryo_length  ...  \\\n",
       "binomial                                                             ...   \n",
       "                                  2                0              0  ...   \n",
       "(new SW                           0                0              0  ...   \n",
       "Aarat                             0                0              0  ...   \n",
       "Abelmoschomys simpsoni            0                0              0  ...   \n",
       "Abeomelomys sevia                 0                0              0  ...   \n",
       "\n",
       "                        nipple_state  placental_scar_count  \\\n",
       "binomial                                                     \n",
       "                                   1                     0   \n",
       "(new SW                            0                     0   \n",
       "Aarat                              0                     0   \n",
       "Abelmoschomys simpsoni             0                     0   \n",
       "Abeomelomys sevia                  0                     0   \n",
       "\n",
       "                        placental_scar_state  vagina_state  nipple_count  \\\n",
       "binomial                                                                   \n",
       "                                           0             0             0   \n",
       "(new SW                                    0             0             0   \n",
       "Aarat                                      0             0             0   \n",
       "Abelmoschomys simpsoni                     0             0             0   \n",
       "Abeomelomys sevia                          0             0             0   \n",
       "\n",
       "                        nipples_enlarged  ovaries_size  ovaries_state  \\\n",
       "binomial                                                                \n",
       "                                       0             0              0   \n",
       "(new SW                                0             0              0   \n",
       "Aarat                                  0             0              0   \n",
       "Abelmoschomys simpsoni                 1             0              0   \n",
       "Abeomelomys sevia                      0             0              0   \n",
       "\n",
       "                        forearm_length  tragus_length  \n",
       "binomial                                               \n",
       "                                     0              0  \n",
       "(new SW                              0              0  \n",
       "Aarat                                0              0  \n",
       "Abelmoschomys simpsoni               0              0  \n",
       "Abeomelomys sevia                    0              0  \n",
       "\n",
       "[5 rows x 22 columns]"
      ]
     },
     "execution_count": 30,
     "metadata": {},
     "output_type": "execute_result"
    }
   ],
   "source": [
    "df.head()"
   ]
  },
  {
   "cell_type": "markdown",
   "metadata": {},
   "source": [
    "## Lift trait values"
   ]
  },
  {
   "cell_type": "code",
   "execution_count": 31,
   "metadata": {},
   "outputs": [],
   "source": [
    "LOC = \"\"\" start end field \"\"\".split()"
   ]
  },
  {
   "cell_type": "code",
   "execution_count": 32,
   "metadata": {},
   "outputs": [],
   "source": [
    "for row in data:\n",
    "    row['field'] = set()\n",
    "    for trait in [t for t in TRAITS if t in row]:\n",
    "        for key, value in row[trait].items():\n",
    "            if key == 'field':\n",
    "                row['field'].add(value)\n",
    "            if key in LOC:\n",
    "                continue\n",
    "            row[f'{trait}.{key}'] = value\n",
    "        del row[trait]\n",
    "    row['field'] = ' '.join(sorted(row['field']))"
   ]
  },
  {
   "cell_type": "code",
   "execution_count": 33,
   "metadata": {},
   "outputs": [
    {
     "data": {
      "text/plain": [
       "{'catalognumber': '32114',\n",
       " 'continent': 'North America',\n",
       " 'country': 'United States',\n",
       " 'county': 'Carroll',\n",
       " 'decimallatitude': '35.8640556',\n",
       " 'decimallongitude': '-88.6769167',\n",
       " 'eventdate': '2003-10-08',\n",
       " 'fieldnotes': 'Yes',\n",
       " 'geodeticdatum': 'NAD83',\n",
       " 'georeferenceprotocol': 'Conversion',\n",
       " 'georeferencesources': 'MaNIS [http://manisnet.org/gci2.html]',\n",
       " 'georeferenceverificationstatus': 'Verified by contributor',\n",
       " 'locality': 'Milan Army Ammunition Plant, Milan',\n",
       " 'occurrenceid': 'urn:catalog:OMNH:Mammals:32114',\n",
       " 'recordedby': 'Kennedy, M. L., et al.',\n",
       " 'reproductivecondition': 'TS=20x11',\n",
       " 'sex': 'male',\n",
       " 'verbatimcoordinates': '35 51 50.6N 88 40 36.9W',\n",
       " 'verbatimcoordinatesystem': 'Degrees minutes seconds',\n",
       " 'verbatimeventdate': '2003-10-08',\n",
       " 'institutioncode': 'OMNH',\n",
       " 'collectioncode': 'Mammals',\n",
       " 'dynamicproperties': '{\"totalLengthInmm\":\"225\", \"tailLengthInmm\":\"88\", \"hindfootLengthInmm\":\"32\", \"earLengthInmm\":\"18\", \"weightIng\":\"78\"}',\n",
       " 'scientificname': 'Sigmodon hispidus',\n",
       " 'binomial': 'Sigmodon hispidus',\n",
       " 'field': 'dynamicproperties reproductivecondition',\n",
       " 'body_mass.units': 'g',\n",
       " 'body_mass.value': 78.0,\n",
       " 'body_mass.units_inferred': False,\n",
       " 'ear_length.units': 'mm',\n",
       " 'ear_length.value': 18.0,\n",
       " 'ear_length.units_inferred': False,\n",
       " 'hind_foot_length.units': 'mm',\n",
       " 'hind_foot_length.value': 32.0,\n",
       " 'hind_foot_length.units_inferred': False,\n",
       " 'tail_length.units': 'mm',\n",
       " 'tail_length.value': 88.0,\n",
       " 'tail_length.units_inferred': False,\n",
       " 'testes_size.units': None,\n",
       " 'testes_size.units_inferred': True,\n",
       " 'testes_size.length': 20.0,\n",
       " 'testes_size.width': 11.0,\n",
       " 'total_length.units': 'mm',\n",
       " 'total_length.value': 225.0,\n",
       " 'total_length.units_inferred': False}"
      ]
     },
     "execution_count": 33,
     "metadata": {},
     "output_type": "execute_result"
    }
   ],
   "source": [
    "data[2]"
   ]
  },
  {
   "cell_type": "markdown",
   "metadata": {},
   "source": [
    "## Convert to data frame and remove duplicate records"
   ]
  },
  {
   "cell_type": "code",
   "execution_count": 34,
   "metadata": {},
   "outputs": [
    {
     "name": "stdout",
     "output_type": "stream",
     "text": [
      "(645609, 143)\n"
     ]
    }
   ],
   "source": [
    "df = pd.DataFrame(data)\n",
    "print(df.shape)"
   ]
  },
  {
   "cell_type": "code",
   "execution_count": 35,
   "metadata": {},
   "outputs": [],
   "source": [
    "df.to_csv(OUTPUT, index=False)"
   ]
  },
  {
   "cell_type": "code",
   "execution_count": null,
   "metadata": {},
   "outputs": [],
   "source": []
  }
 ],
 "metadata": {
  "hide_input": false,
  "kernelspec": {
   "display_name": "Python 3 (ipykernel)",
   "language": "python",
   "name": "python3"
  },
  "language_info": {
   "codemirror_mode": {
    "name": "ipython",
    "version": 3
   },
   "file_extension": ".py",
   "mimetype": "text/x-python",
   "name": "python",
   "nbconvert_exporter": "python",
   "pygments_lexer": "ipython3",
   "version": "3.10.12"
  },
  "varInspector": {
   "cols": {
    "lenName": 16,
    "lenType": 16,
    "lenVar": 40
   },
   "kernels_config": {
    "python": {
     "delete_cmd_postfix": "",
     "delete_cmd_prefix": "del ",
     "library": "var_list.py",
     "varRefreshCmd": "print(var_dic_list())"
    },
    "r": {
     "delete_cmd_postfix": ") ",
     "delete_cmd_prefix": "rm(",
     "library": "var_list.r",
     "varRefreshCmd": "cat(var_dic_list()) "
    }
   },
   "types_to_exclude": [
    "module",
    "function",
    "builtin_function_or_method",
    "instance",
    "_Feature"
   ],
   "window_display": false
  }
 },
 "nbformat": 4,
 "nbformat_minor": 4
}
