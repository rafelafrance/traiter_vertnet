{
 "cells": [
  {
   "cell_type": "markdown",
   "metadata": {},
   "source": [
    "# All mammals grouped by institution"
   ]
  },
  {
   "cell_type": "code",
   "execution_count": 1,
   "metadata": {
    "ExecuteTime": {
     "end_time": "2020-08-12T16:23:27.374839Z",
     "start_time": "2020-08-12T16:23:27.371941Z"
    }
   },
   "outputs": [],
   "source": [
    "import sys\n",
    "sys.path.append('..')"
   ]
  },
  {
   "cell_type": "code",
   "execution_count": 2,
   "metadata": {
    "ExecuteTime": {
     "end_time": "2020-08-12T16:23:27.617132Z",
     "start_time": "2020-08-12T16:23:27.378658Z"
    }
   },
   "outputs": [],
   "source": [
    "import csv\n",
    "import re\n",
    "from pathlib import Path\n",
    "from pprint import pp\n",
    "import json\n",
    "from collections import defaultdict\n",
    "from ipywidgets import interact\n",
    "from pprint import pprint\n",
    "from tqdm import tqdm\n",
    "import pandas as pd"
   ]
  },
  {
   "cell_type": "code",
   "execution_count": 3,
   "metadata": {
    "ExecuteTime": {
     "end_time": "2020-08-12T16:23:27.620750Z",
     "start_time": "2020-08-12T16:23:27.618279Z"
    }
   },
   "outputs": [],
   "source": [
    "DATA_DIR = Path('..') / 'data'\n",
    "OUT_DIR = DATA_DIR / 'output'\n",
    "\n",
    "BASE_NAME = 'all_mammals_2021-11-09'\n",
    "VER = 'd'\n",
    "\n",
    "JSONL = OUT_DIR / f'{BASE_NAME}.jsonl'\n",
    "DETAIL = OUT_DIR / f'{BASE_NAME}{VER}.csv'\n",
    "COUNTS = OUT_DIR / f'{BASE_NAME}{VER}_counts.csv'\n",
    "\n",
    "VERTNET = DATA_DIR / \"vertnet_latest_mammals.csv\""
   ]
  },
  {
   "cell_type": "markdown",
   "metadata": {},
   "source": [
    "## Read data"
   ]
  },
  {
   "cell_type": "markdown",
   "metadata": {},
   "source": [
    "### Read previous data"
   ]
  },
  {
   "cell_type": "code",
   "execution_count": 4,
   "metadata": {},
   "outputs": [
    {
     "data": {
      "text/plain": [
       "(649163, 78)"
      ]
     },
     "execution_count": 4,
     "metadata": {},
     "output_type": "execute_result"
    }
   ],
   "source": [
    "df = pd.read_json(JSONL, lines=True)\n",
    "df.shape"
   ]
  },
  {
   "cell_type": "code",
   "execution_count": 5,
   "metadata": {},
   "outputs": [
    {
     "data": {
      "text/plain": [
       "Index(['catalognumber', 'continent', 'country', 'county', 'decimallatitude',\n",
       "       'decimallongitude', 'eventdate', 'fieldnotes', 'geodeticdatum',\n",
       "       'georeferenceprotocol', 'georeferenceverificationstatus', 'locality',\n",
       "       'occurrenceid', 'recordedby', 'reproductivecondition', 'sex',\n",
       "       'verbatimcoordinates', 'verbatimcoordinatesystem', 'verbatimelevation',\n",
       "       'verbatimeventdate', 'institutioncode', 'collectioncode',\n",
       "       'dynamicproperties', 'scientificname', 'body_mass', 'ear_length',\n",
       "       'hind_foot_length', 'tail_length', 'total_length', 'embryo_count',\n",
       "       'georeferencesources', 'testes_size', 'habitat', 'lactation_state',\n",
       "       'georeferencedby', 'georeferenceddate', 'highergeography', 'lifestage',\n",
       "       'verbatimlocality', 'coordinateuncertaintyinmeters', 'pregnancy_state',\n",
       "       'locationremarks', 'placental_scar_count', 'placental_scar_state',\n",
       "       'embryo_length', 'vagina_state', 'countrycode', 'islandgroup',\n",
       "       'verbatimlatitude', 'verbatimlongitude', 'occurrenceremarks',\n",
       "       'forearm_length', 'tragus_length', 'locationaccordingto',\n",
       "       'georeferenceremarks', 'maximumelevationinmeters',\n",
       "       'minimumelevationinmeters', 'island', 'coordinateprecision',\n",
       "       'nipple_state', 'nipples_enlarged', 'testes_state', 'scrotal_state',\n",
       "       'nipple_count', 'waterbody', 'ovaries_state', 'ovaries_size',\n",
       "       'municipality', 'verbatimsrs', 'maximumdepthinmeters',\n",
       "       'minimumdepthinmeters', 'highestbiostratigraphiczone',\n",
       "       'footprintspatialfit', 'footprintsrs', 'footprintwkt',\n",
       "       'highergeographyid', 'locationid', 'verbatimdepth'],\n",
       "      dtype='object')"
      ]
     },
     "execution_count": 5,
     "metadata": {},
     "output_type": "execute_result"
    }
   ],
   "source": [
    "df.columns"
   ]
  },
  {
   "cell_type": "markdown",
   "metadata": {},
   "source": [
    "### Read orders, and families"
   ]
  },
  {
   "cell_type": "code",
   "execution_count": 6,
   "metadata": {},
   "outputs": [
    {
     "name": "stderr",
     "output_type": "stream",
     "text": [
      "4666375it [01:32, 50632.30it/s]\n"
     ]
    }
   ],
   "source": [
    "ORDERS = {}\n",
    "FAMILIES = {}\n",
    "\n",
    "with open(VERTNET) as f:\n",
    "    reader = csv.DictReader(f)\n",
    "\n",
    "    for row in tqdm(reader):\n",
    "        sci_name = row[\"scientificname\"]\n",
    "\n",
    "        if order := row[\"order\"]:\n",
    "            ORDERS[sci_name] = order\n",
    "\n",
    "        if family := row[\"family\"]:\n",
    "            FAMILIES[sci_name] = family"
   ]
  },
  {
   "cell_type": "markdown",
   "metadata": {},
   "source": [
    "## Get counts"
   ]
  },
  {
   "cell_type": "code",
   "execution_count": 7,
   "metadata": {},
   "outputs": [],
   "source": [
    "key = \"body_measurements\"\n",
    "df[key] = 0\n",
    "df.loc[df[\"body_mass\"].notna(), key] += 1\n",
    "df.loc[df[\"ear_length\"].notna(), key] += 1\n",
    "df.loc[df[\"hind_foot_length\"].notna(), key] += 1\n",
    "df.loc[df[\"tail_length\"].notna(), key] += 1\n",
    "df.loc[df[\"total_length\"].notna(), key] += 1\n",
    "df.loc[df[\"forearm_length\"].notna(), key] += 1\n",
    "df.loc[df[\"tragus_length\"].notna(), key] += 1"
   ]
  },
  {
   "cell_type": "code",
   "execution_count": 8,
   "metadata": {},
   "outputs": [],
   "source": [
    "key = \"female_counts\"\n",
    "df[key] = 0\n",
    "df.loc[df[\"embryo_count\"].notna(), key] += 1\n",
    "df.loc[df[\"embryo_length\"].notna(), key] += 1\n",
    "df.loc[df[\"lactation_state\"].notna(), key] += 1\n",
    "df.loc[df[\"nipple_state\"].notna(), key] += 1\n",
    "df.loc[df[\"nipples_enlarged\"].notna(), key] += 1\n",
    "df.loc[df[\"nipple_count\"].notna(), key] += 1\n",
    "df.loc[df[\"ovaries_state\"].notna(), key] += 1\n",
    "df.loc[df[\"ovaries_size\"].notna(), key] += 1\n",
    "df.loc[df[\"placental_scar_count\"].notna(), key] += 1\n",
    "df.loc[df[\"placental_scar_state\"].notna(), key] += 1\n",
    "df.loc[df[\"pregnancy_state\"].notna(), key] += 1\n",
    "df.loc[df[\"vagina_state\"].notna(), key] += 1"
   ]
  },
  {
   "cell_type": "code",
   "execution_count": 9,
   "metadata": {},
   "outputs": [],
   "source": [
    "key = \"male_counts\"\n",
    "df[key] = 0\n",
    "df.loc[df[\"scrotal_state\"].notna(), key] += 1\n",
    "df.loc[df[\"testes_size\"].notna(), key] += 1\n",
    "df.loc[df[\"testes_state\"].notna(), key] += 1"
   ]
  },
  {
   "cell_type": "markdown",
   "metadata": {},
   "source": [
    "## Build data frames"
   ]
  },
  {
   "cell_type": "code",
   "execution_count": 10,
   "metadata": {},
   "outputs": [],
   "source": [
    "df[\"order\"] = df[\"scientificname\"].map(ORDERS).fillna(\"\")\n",
    "df[\"family\"] = df[\"scientificname\"].map(FAMILIES).fillna(\"\")"
   ]
  },
  {
   "cell_type": "code",
   "execution_count": 11,
   "metadata": {},
   "outputs": [],
   "source": [
    "cols = \"\"\"\n",
    "    institutioncode catalognumber\n",
    "    order family scientificname\n",
    "    body_measurements female_counts male_counts\n",
    "    \"\"\".split()\n",
    "df = df.loc[:, cols]"
   ]
  },
  {
   "cell_type": "code",
   "execution_count": 12,
   "metadata": {},
   "outputs": [],
   "source": [
    "df = df.sort_values([\"institutioncode\", \"order\", \"family\", \"scientificname\"])"
   ]
  },
  {
   "cell_type": "code",
   "execution_count": 13,
   "metadata": {},
   "outputs": [
    {
     "data": {
      "text/html": [
       "<div>\n",
       "<style scoped>\n",
       "    .dataframe tbody tr th:only-of-type {\n",
       "        vertical-align: middle;\n",
       "    }\n",
       "\n",
       "    .dataframe tbody tr th {\n",
       "        vertical-align: top;\n",
       "    }\n",
       "\n",
       "    .dataframe thead th {\n",
       "        text-align: right;\n",
       "    }\n",
       "</style>\n",
       "<table border=\"1\" class=\"dataframe\">\n",
       "  <thead>\n",
       "    <tr style=\"text-align: right;\">\n",
       "      <th></th>\n",
       "      <th></th>\n",
       "      <th></th>\n",
       "      <th></th>\n",
       "      <th>body_measurements</th>\n",
       "      <th>female_counts</th>\n",
       "      <th>male_counts</th>\n",
       "    </tr>\n",
       "    <tr>\n",
       "      <th>institutioncode</th>\n",
       "      <th>order</th>\n",
       "      <th>family</th>\n",
       "      <th>scientificname</th>\n",
       "      <th></th>\n",
       "      <th></th>\n",
       "      <th></th>\n",
       "    </tr>\n",
       "  </thead>\n",
       "  <tbody>\n",
       "    <tr>\n",
       "      <th rowspan=\"20\" valign=\"top\">AMNH</th>\n",
       "      <th rowspan=\"20\" valign=\"top\">Artiodactyla</th>\n",
       "      <th>Antilopinae</th>\n",
       "      <th>Ourebia ourebi haggardi</th>\n",
       "      <td>0</td>\n",
       "      <td>1</td>\n",
       "      <td>0</td>\n",
       "    </tr>\n",
       "    <tr>\n",
       "      <th rowspan=\"11\" valign=\"top\">Bovidae</th>\n",
       "      <th>Bison bison</th>\n",
       "      <td>0</td>\n",
       "      <td>1</td>\n",
       "      <td>0</td>\n",
       "    </tr>\n",
       "    <tr>\n",
       "      <th>Bovidae</th>\n",
       "      <td>0</td>\n",
       "      <td>1</td>\n",
       "      <td>0</td>\n",
       "    </tr>\n",
       "    <tr>\n",
       "      <th>Hemitragus</th>\n",
       "      <td>0</td>\n",
       "      <td>0</td>\n",
       "      <td>1</td>\n",
       "    </tr>\n",
       "    <tr>\n",
       "      <th>Ovibos moschatus</th>\n",
       "      <td>0</td>\n",
       "      <td>0</td>\n",
       "      <td>1</td>\n",
       "    </tr>\n",
       "    <tr>\n",
       "      <th>Ovis</th>\n",
       "      <td>0</td>\n",
       "      <td>2</td>\n",
       "      <td>0</td>\n",
       "    </tr>\n",
       "    <tr>\n",
       "      <th>Ovis ammon poli</th>\n",
       "      <td>1</td>\n",
       "      <td>0</td>\n",
       "      <td>0</td>\n",
       "    </tr>\n",
       "    <tr>\n",
       "      <th>Syncerus</th>\n",
       "      <td>0</td>\n",
       "      <td>1</td>\n",
       "      <td>0</td>\n",
       "    </tr>\n",
       "    <tr>\n",
       "      <th>Syncerus caffer nanus</th>\n",
       "      <td>1</td>\n",
       "      <td>0</td>\n",
       "      <td>0</td>\n",
       "    </tr>\n",
       "    <tr>\n",
       "      <th>Taurotragus derbianus gigas</th>\n",
       "      <td>0</td>\n",
       "      <td>1</td>\n",
       "      <td>0</td>\n",
       "    </tr>\n",
       "    <tr>\n",
       "      <th>Tragelaphus</th>\n",
       "      <td>0</td>\n",
       "      <td>1</td>\n",
       "      <td>0</td>\n",
       "    </tr>\n",
       "    <tr>\n",
       "      <th>Tragelaphus scriptus</th>\n",
       "      <td>0</td>\n",
       "      <td>1</td>\n",
       "      <td>0</td>\n",
       "    </tr>\n",
       "    <tr>\n",
       "      <th>Capreolinae</th>\n",
       "      <th>Mazama americana sarae</th>\n",
       "      <td>0</td>\n",
       "      <td>0</td>\n",
       "      <td>1</td>\n",
       "    </tr>\n",
       "    <tr>\n",
       "      <th>Caprinae</th>\n",
       "      <th>Naemorhedus goral griseus</th>\n",
       "      <td>1</td>\n",
       "      <td>0</td>\n",
       "      <td>0</td>\n",
       "    </tr>\n",
       "    <tr>\n",
       "      <th rowspan=\"6\" valign=\"top\">Cervidae</th>\n",
       "      <th>Elaphurus davidianus</th>\n",
       "      <td>0</td>\n",
       "      <td>0</td>\n",
       "      <td>1</td>\n",
       "    </tr>\n",
       "    <tr>\n",
       "      <th>Mazama</th>\n",
       "      <td>0</td>\n",
       "      <td>0</td>\n",
       "      <td>2</td>\n",
       "    </tr>\n",
       "    <tr>\n",
       "      <th>Mazama gouazoupira</th>\n",
       "      <td>0</td>\n",
       "      <td>1</td>\n",
       "      <td>0</td>\n",
       "    </tr>\n",
       "    <tr>\n",
       "      <th>Muntiacus muntjak pleiharicus</th>\n",
       "      <td>3</td>\n",
       "      <td>0</td>\n",
       "      <td>0</td>\n",
       "    </tr>\n",
       "    <tr>\n",
       "      <th>Odocoileus hemionus columbianus</th>\n",
       "      <td>6</td>\n",
       "      <td>0</td>\n",
       "      <td>0</td>\n",
       "    </tr>\n",
       "    <tr>\n",
       "      <th>Odocoileus hemionus crooki</th>\n",
       "      <td>1</td>\n",
       "      <td>0</td>\n",
       "      <td>0</td>\n",
       "    </tr>\n",
       "  </tbody>\n",
       "</table>\n",
       "</div>"
      ],
      "text/plain": [
       "                                                                          body_measurements  \\\n",
       "institutioncode order        family      scientificname                                       \n",
       "AMNH            Artiodactyla Antilopinae Ourebia ourebi haggardi                          0   \n",
       "                             Bovidae     Bison bison                                      0   \n",
       "                                         Bovidae                                          0   \n",
       "                                         Hemitragus                                       0   \n",
       "                                         Ovibos moschatus                                 0   \n",
       "                                         Ovis                                             0   \n",
       "                                         Ovis ammon poli                                  1   \n",
       "                                         Syncerus                                         0   \n",
       "                                         Syncerus caffer nanus                            1   \n",
       "                                         Taurotragus derbianus gigas                      0   \n",
       "                                         Tragelaphus                                      0   \n",
       "                                         Tragelaphus scriptus                             0   \n",
       "                             Capreolinae Mazama americana sarae                           0   \n",
       "                             Caprinae    Naemorhedus goral griseus                        1   \n",
       "                             Cervidae    Elaphurus davidianus                             0   \n",
       "                                         Mazama                                           0   \n",
       "                                         Mazama gouazoupira                               0   \n",
       "                                         Muntiacus muntjak pleiharicus                    3   \n",
       "                                         Odocoileus hemionus columbianus                  6   \n",
       "                                         Odocoileus hemionus crooki                       1   \n",
       "\n",
       "                                                                          female_counts  \\\n",
       "institutioncode order        family      scientificname                                   \n",
       "AMNH            Artiodactyla Antilopinae Ourebia ourebi haggardi                      1   \n",
       "                             Bovidae     Bison bison                                  1   \n",
       "                                         Bovidae                                      1   \n",
       "                                         Hemitragus                                   0   \n",
       "                                         Ovibos moschatus                             0   \n",
       "                                         Ovis                                         2   \n",
       "                                         Ovis ammon poli                              0   \n",
       "                                         Syncerus                                     1   \n",
       "                                         Syncerus caffer nanus                        0   \n",
       "                                         Taurotragus derbianus gigas                  1   \n",
       "                                         Tragelaphus                                  1   \n",
       "                                         Tragelaphus scriptus                         1   \n",
       "                             Capreolinae Mazama americana sarae                       0   \n",
       "                             Caprinae    Naemorhedus goral griseus                    0   \n",
       "                             Cervidae    Elaphurus davidianus                         0   \n",
       "                                         Mazama                                       0   \n",
       "                                         Mazama gouazoupira                           1   \n",
       "                                         Muntiacus muntjak pleiharicus                0   \n",
       "                                         Odocoileus hemionus columbianus              0   \n",
       "                                         Odocoileus hemionus crooki                   0   \n",
       "\n",
       "                                                                          male_counts  \n",
       "institutioncode order        family      scientificname                                \n",
       "AMNH            Artiodactyla Antilopinae Ourebia ourebi haggardi                    0  \n",
       "                             Bovidae     Bison bison                                0  \n",
       "                                         Bovidae                                    0  \n",
       "                                         Hemitragus                                 1  \n",
       "                                         Ovibos moschatus                           1  \n",
       "                                         Ovis                                       0  \n",
       "                                         Ovis ammon poli                            0  \n",
       "                                         Syncerus                                   0  \n",
       "                                         Syncerus caffer nanus                      0  \n",
       "                                         Taurotragus derbianus gigas                0  \n",
       "                                         Tragelaphus                                0  \n",
       "                                         Tragelaphus scriptus                       0  \n",
       "                             Capreolinae Mazama americana sarae                     1  \n",
       "                             Caprinae    Naemorhedus goral griseus                  0  \n",
       "                             Cervidae    Elaphurus davidianus                       1  \n",
       "                                         Mazama                                     2  \n",
       "                                         Mazama gouazoupira                         0  \n",
       "                                         Muntiacus muntjak pleiharicus              0  \n",
       "                                         Odocoileus hemionus columbianus            0  \n",
       "                                         Odocoileus hemionus crooki                 0  "
      ]
     },
     "execution_count": 13,
     "metadata": {},
     "output_type": "execute_result"
    }
   ],
   "source": [
    "df2 = df.drop(columns=\"catalognumber\")\n",
    "df2 = df2.groupby([\"institutioncode\", \"order\", \"family\", \"scientificname\"]).agg(\"sum\")\n",
    "df2.head(20)"
   ]
  },
  {
   "cell_type": "markdown",
   "metadata": {},
   "source": [
    "## Write output"
   ]
  },
  {
   "cell_type": "code",
   "execution_count": 14,
   "metadata": {},
   "outputs": [],
   "source": [
    "df.to_csv(DETAIL, index=False)"
   ]
  },
  {
   "cell_type": "code",
   "execution_count": 15,
   "metadata": {},
   "outputs": [
    {
     "data": {
      "text/plain": [
       "(649163, 8)"
      ]
     },
     "execution_count": 15,
     "metadata": {},
     "output_type": "execute_result"
    }
   ],
   "source": [
    "df.shape"
   ]
  },
  {
   "cell_type": "code",
   "execution_count": 16,
   "metadata": {},
   "outputs": [],
   "source": [
    "df2.to_csv(COUNTS)"
   ]
  },
  {
   "cell_type": "code",
   "execution_count": 17,
   "metadata": {},
   "outputs": [
    {
     "data": {
      "text/plain": [
       "(21995, 3)"
      ]
     },
     "execution_count": 17,
     "metadata": {},
     "output_type": "execute_result"
    }
   ],
   "source": [
    "df2.shape"
   ]
  },
  {
   "cell_type": "code",
   "execution_count": null,
   "metadata": {},
   "outputs": [],
   "source": []
  }
 ],
 "metadata": {
  "hide_input": false,
  "kernelspec": {
   "display_name": "Python 3 (ipykernel)",
   "language": "python",
   "name": "python3"
  },
  "language_info": {
   "codemirror_mode": {
    "name": "ipython",
    "version": 3
   },
   "file_extension": ".py",
   "mimetype": "text/x-python",
   "name": "python",
   "nbconvert_exporter": "python",
   "pygments_lexer": "ipython3",
   "version": "3.10.12"
  },
  "varInspector": {
   "cols": {
    "lenName": 16,
    "lenType": 16,
    "lenVar": 40
   },
   "kernels_config": {
    "python": {
     "delete_cmd_postfix": "",
     "delete_cmd_prefix": "del ",
     "library": "var_list.py",
     "varRefreshCmd": "print(var_dic_list())"
    },
    "r": {
     "delete_cmd_postfix": ") ",
     "delete_cmd_prefix": "rm(",
     "library": "var_list.r",
     "varRefreshCmd": "cat(var_dic_list()) "
    }
   },
   "types_to_exclude": [
    "module",
    "function",
    "builtin_function_or_method",
    "instance",
    "_Feature"
   ],
   "window_display": false
  }
 },
 "nbformat": 4,
 "nbformat_minor": 4
}
