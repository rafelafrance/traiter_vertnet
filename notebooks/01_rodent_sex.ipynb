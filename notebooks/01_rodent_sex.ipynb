{
 "cells": [
  {
   "cell_type": "markdown",
   "metadata": {},
   "source": [
    "# Clean Data Extracted from VertNet"
   ]
  },
  {
   "cell_type": "code",
   "execution_count": 1,
   "metadata": {
    "ExecuteTime": {
     "end_time": "2020-08-12T16:23:27.374839Z",
     "start_time": "2020-08-12T16:23:27.371941Z"
    }
   },
   "outputs": [],
   "source": [
    "import sys\n",
    "sys.path.append('..')"
   ]
  },
  {
   "cell_type": "code",
   "execution_count": 2,
   "metadata": {
    "ExecuteTime": {
     "end_time": "2020-08-12T16:23:27.617132Z",
     "start_time": "2020-08-12T16:23:27.378658Z"
    }
   },
   "outputs": [],
   "source": [
    "import re\n",
    "from pathlib import Path\n",
    "from pprint import pp\n",
    "import json\n",
    "from collections import defaultdict\n",
    "from ipywidgets import interact\n",
    "from pprint import pprint\n",
    "from tqdm.notebook import tqdm\n",
    "import pandas as pd"
   ]
  },
  {
   "cell_type": "code",
   "execution_count": 3,
   "metadata": {
    "ExecuteTime": {
     "end_time": "2020-08-12T16:23:27.620750Z",
     "start_time": "2020-08-12T16:23:27.618279Z"
    }
   },
   "outputs": [],
   "source": [
    "DATA_DIR = Path('..') / 'output'\n",
    "ARGS_DIR = Path('..') / 'args'\n",
    "\n",
    "BASE_NAME = 'rodent_sex_2021-09-15'\n",
    "VER = 'a'\n",
    "JSONL = DATA_DIR / 'rodent_sex_2021-09-15.jsonl'\n",
    "OUTPUT = DATA_DIR / f'{BASE_NAME}{VER}.csv'\n",
    "COUNTS = DATA_DIR / f'{BASE_NAME}{VER}_counts.csv'\n",
    "\n",
    "ARGS = ARGS_DIR / 'rodent_sex.args'"
   ]
  },
  {
   "cell_type": "code",
   "execution_count": 4,
   "metadata": {},
   "outputs": [],
   "source": [
    "VOCAB_DIR = Path('..') / 'vertnet' / 'vocabulary'\n",
    "\n",
    "TERMS = VOCAB_DIR / 'life_stage.csv'"
   ]
  },
  {
   "cell_type": "markdown",
   "metadata": {},
   "source": [
    "## Get traits and other fields from the arguments"
   ]
  },
  {
   "cell_type": "code",
   "execution_count": 5,
   "metadata": {
    "ExecuteTime": {
     "end_time": "2020-08-12T16:23:27.634066Z",
     "start_time": "2020-08-12T16:23:27.621986Z"
    },
    "scrolled": true
   },
   "outputs": [
    {
     "data": {
      "text/plain": [
       "['catalognumber',\n",
       " 'collectioncode',\n",
       " 'continent',\n",
       " 'coordinateprecision',\n",
       " 'coordinateuncertaintyinmeters',\n",
       " 'country',\n",
       " 'countrycode',\n",
       " 'county',\n",
       " 'decimallatitude',\n",
       " 'decimallongitude',\n",
       " 'eventdate',\n",
       " 'footprintspatialfit',\n",
       " 'footprintsrs',\n",
       " 'footprintwkt',\n",
       " 'geodeticdatum',\n",
       " 'geologicalcontextid',\n",
       " 'georeferencedby',\n",
       " 'georeferenceddate',\n",
       " 'georeferenceprotocol',\n",
       " 'georeferenceremarks',\n",
       " 'georeferencesources',\n",
       " 'georeferenceverificationstatus',\n",
       " 'habitat',\n",
       " 'highergeography',\n",
       " 'highergeographyid',\n",
       " 'highestbiostratigraphiczone',\n",
       " 'institutioncode',\n",
       " 'island',\n",
       " 'islandgroup',\n",
       " 'lifestage',\n",
       " 'locality',\n",
       " 'locationaccordingto',\n",
       " 'locationid',\n",
       " 'locationremarks',\n",
       " 'maximumdepthinmeters',\n",
       " 'maximumdistanceabovesurfaceinmeters',\n",
       " 'maximumelevationinmeters',\n",
       " 'minimumdepthinmeters',\n",
       " 'minimumdistanceabovesurfaceinmeters',\n",
       " 'minimumelevationinmeters',\n",
       " 'municipality',\n",
       " 'occurrenceid',\n",
       " 'recordedby',\n",
       " 'scientificname',\n",
       " 'sex',\n",
       " 'verbatimcoordinates',\n",
       " 'verbatimcoordinatesystem',\n",
       " 'verbatimdepth',\n",
       " 'verbatimelevation',\n",
       " 'verbatimeventdate',\n",
       " 'verbatimlatitude',\n",
       " 'verbatimlocality',\n",
       " 'verbatimlongitude',\n",
       " 'verbatimsrs',\n",
       " 'waterbody',\n",
       " 'stateprovince',\n",
       " 'day',\n",
       " 'month',\n",
       " 'year']"
      ]
     },
     "execution_count": 5,
     "metadata": {},
     "output_type": "execute_result"
    }
   ],
   "source": [
    "TRAITS = [ln.strip().replace('--trait=', '')\n",
    "          for ln in open(ARGS).readlines() if ln.startswith('--trait=')]\n",
    "OTHERS = [ln.strip().replace('--extra-field=', '')\n",
    "          for ln in open(ARGS).readlines() if ln.startswith('--extra-field=')]\n",
    "# TRAITS\n",
    "OTHERS"
   ]
  },
  {
   "cell_type": "markdown",
   "metadata": {},
   "source": [
    "## Trait and field categories"
   ]
  },
  {
   "cell_type": "code",
   "execution_count": 6,
   "metadata": {
    "ExecuteTime": {
     "end_time": "2020-08-12T16:23:27.640443Z",
     "start_time": "2020-08-12T16:23:27.635160Z"
    }
   },
   "outputs": [],
   "source": [
    "LOC = \"\"\" start end field \"\"\".split()\n",
    "\n",
    "MALE = \"\"\" testes_size testes_state \"\"\".split()\n",
    "\n",
    "FEMALE = \"\"\" embryo_count embryo_length lactation_state\n",
    "    nipple_count nipple_state ovaries_size ovaries_state\n",
    "    placental_scar_count pregnancy_state \"\"\".split()\n",
    "\n",
    "REPRO = MALE + FEMALE\n",
    "\n",
    "BODY = [t for t in TRAITS if t not in REPRO]"
   ]
  },
  {
   "cell_type": "markdown",
   "metadata": {},
   "source": [
    "## Read data"
   ]
  },
  {
   "cell_type": "code",
   "execution_count": 7,
   "metadata": {
    "ExecuteTime": {
     "end_time": "2020-08-12T16:23:29.337860Z",
     "start_time": "2020-08-12T16:23:27.641402Z"
    }
   },
   "outputs": [
    {
     "data": {
      "text/plain": [
       "186077"
      ]
     },
     "execution_count": 7,
     "metadata": {},
     "output_type": "execute_result"
    }
   ],
   "source": [
    "with open(JSONL) as json_file:\n",
    "    data = [json.loads(d) for d in json_file.readlines()]\n",
    "len(data)"
   ]
  },
  {
   "cell_type": "code",
   "execution_count": 8,
   "metadata": {
    "ExecuteTime": {
     "end_time": "2020-08-12T16:23:29.343091Z",
     "start_time": "2020-08-12T16:23:29.338932Z"
    },
    "scrolled": true
   },
   "outputs": [
    {
     "data": {
      "text/plain": [
       "{'catalognumber': '90224',\n",
       " 'continent': 'North America',\n",
       " 'country': 'Canada',\n",
       " 'county': 'Algoma',\n",
       " 'day': '07',\n",
       " 'decimallatitude': '47.37688',\n",
       " 'decimallongitude': '-84.65266',\n",
       " 'eventdate': '1984-07-07',\n",
       " 'geodeticdatum': 'UTMG NAD27, Decimal Degrees NAD83',\n",
       " 'georeferencedby': 'Susan M Woodward, Janet Sit (ROM)',\n",
       " 'georeferenceddate': '20090424',\n",
       " 'georeferenceprotocol': 'MaNIS/HerpNet/ORNIS Georeferencing Guidelines, GBIF Best Practices',\n",
       " 'georeferencesources': 'Energy, Mines and Resources Canada, Series A751, Agawa Bay, 41 N/07, 1:50,000, Edition 3, 1995',\n",
       " 'georeferenceverificationstatus': 'unverified',\n",
       " 'highergeography': 'North America; Canada; Ontario; Algoma',\n",
       " 'lifestage': 'adult',\n",
       " 'locality': 'Lake Superior Provincial Park, Near Agawa Bay, Trapline 08',\n",
       " 'month': '7',\n",
       " 'occurrenceid': 'URI:catalog:ROM:Mammals:90224',\n",
       " 'recordedby': 'Gibson, JS',\n",
       " 'reproductivecondition': 'testes-8X6',\n",
       " 'sex': 'male',\n",
       " 'stateprovince': 'Ontario',\n",
       " 'verbatimcoordinates': '472200 N;0844000 W',\n",
       " 'verbatimeventdate': '19840707',\n",
       " 'verbatimlocality': 'Lake Superior Provincial Park, Near Agawa Bay, Trapline 08',\n",
       " 'year': '1984',\n",
       " 'institutioncode': 'ROM',\n",
       " 'collectioncode': 'Mammals',\n",
       " 'scientificname': 'Blarina brevicauda',\n",
       " 'testes_size': [{'start': 0,\n",
       "   'end': 10,\n",
       "   'units': None,\n",
       "   'value': [8.0, 6.0],\n",
       "   'units_inferred': True,\n",
       "   'field': 'reproductivecondition'}]}"
      ]
     },
     "execution_count": 8,
     "metadata": {},
     "output_type": "execute_result"
    }
   ],
   "source": [
    "data[10]"
   ]
  },
  {
   "cell_type": "markdown",
   "metadata": {},
   "source": [
    "## Normalize Life Stage"
   ]
  },
  {
   "cell_type": "code",
   "execution_count": 9,
   "metadata": {},
   "outputs": [
    {
     "name": "stdout",
     "output_type": "stream",
     "text": [
      "(314, 5)\n"
     ]
    },
    {
     "data": {
      "text/html": [
       "<div>\n",
       "<style scoped>\n",
       "    .dataframe tbody tr th:only-of-type {\n",
       "        vertical-align: middle;\n",
       "    }\n",
       "\n",
       "    .dataframe tbody tr th {\n",
       "        vertical-align: top;\n",
       "    }\n",
       "\n",
       "    .dataframe thead th {\n",
       "        text-align: right;\n",
       "    }\n",
       "</style>\n",
       "<table border=\"1\" class=\"dataframe\">\n",
       "  <thead>\n",
       "    <tr style=\"text-align: right;\">\n",
       "      <th></th>\n",
       "      <th>label</th>\n",
       "      <th>pattern</th>\n",
       "      <th>attr</th>\n",
       "      <th>replace</th>\n",
       "      <th>notes</th>\n",
       "    </tr>\n",
       "  </thead>\n",
       "  <tbody>\n",
       "    <tr>\n",
       "      <th>0</th>\n",
       "      <td>life_stage</td>\n",
       "      <td>[imm]</td>\n",
       "      <td>lower</td>\n",
       "      <td>Juvenile</td>\n",
       "      <td></td>\n",
       "    </tr>\n",
       "    <tr>\n",
       "      <th>1</th>\n",
       "      <td>life_stage</td>\n",
       "      <td>1 mo</td>\n",
       "      <td>lower</td>\n",
       "      <td>Juvenile</td>\n",
       "      <td></td>\n",
       "    </tr>\n",
       "    <tr>\n",
       "      <th>2</th>\n",
       "      <td>life_stage</td>\n",
       "      <td>100% ossified</td>\n",
       "      <td>lower</td>\n",
       "      <td>Adult</td>\n",
       "      <td></td>\n",
       "    </tr>\n",
       "    <tr>\n",
       "      <th>3</th>\n",
       "      <td>life_stage</td>\n",
       "      <td>1st winter</td>\n",
       "      <td>lower</td>\n",
       "      <td>Juvenile</td>\n",
       "      <td></td>\n",
       "    </tr>\n",
       "    <tr>\n",
       "      <th>4</th>\n",
       "      <td>life_stage</td>\n",
       "      <td>1st year</td>\n",
       "      <td>lower</td>\n",
       "      <td>Juvenile</td>\n",
       "      <td></td>\n",
       "    </tr>\n",
       "  </tbody>\n",
       "</table>\n",
       "</div>"
      ],
      "text/plain": [
       "        label        pattern   attr   replace notes\n",
       "0  life_stage          [imm]  lower  Juvenile      \n",
       "1  life_stage           1 mo  lower  Juvenile      \n",
       "2  life_stage  100% ossified  lower     Adult      \n",
       "3  life_stage     1st winter  lower  Juvenile      \n",
       "4  life_stage       1st year  lower  Juvenile      "
      ]
     },
     "execution_count": 9,
     "metadata": {},
     "output_type": "execute_result"
    }
   ],
   "source": [
    "terms = pd.read_csv(TERMS).fillna('')\n",
    "\n",
    "print(terms.shape)\n",
    "terms.head()"
   ]
  },
  {
   "cell_type": "code",
   "execution_count": 10,
   "metadata": {},
   "outputs": [
    {
     "name": "stdout",
     "output_type": "stream",
     "text": [
      "(314, 5)\n"
     ]
    },
    {
     "data": {
      "text/html": [
       "<div>\n",
       "<style scoped>\n",
       "    .dataframe tbody tr th:only-of-type {\n",
       "        vertical-align: middle;\n",
       "    }\n",
       "\n",
       "    .dataframe tbody tr th {\n",
       "        vertical-align: top;\n",
       "    }\n",
       "\n",
       "    .dataframe thead th {\n",
       "        text-align: right;\n",
       "    }\n",
       "</style>\n",
       "<table border=\"1\" class=\"dataframe\">\n",
       "  <thead>\n",
       "    <tr style=\"text-align: right;\">\n",
       "      <th></th>\n",
       "      <th>label</th>\n",
       "      <th>pattern</th>\n",
       "      <th>attr</th>\n",
       "      <th>replace</th>\n",
       "      <th>notes</th>\n",
       "    </tr>\n",
       "  </thead>\n",
       "  <tbody>\n",
       "    <tr>\n",
       "      <th>0</th>\n",
       "      <td>life_stage</td>\n",
       "      <td>[imm]</td>\n",
       "      <td>lower</td>\n",
       "      <td>Juvenile</td>\n",
       "      <td></td>\n",
       "    </tr>\n",
       "    <tr>\n",
       "      <th>1</th>\n",
       "      <td>life_stage</td>\n",
       "      <td>1 mo</td>\n",
       "      <td>lower</td>\n",
       "      <td>Juvenile</td>\n",
       "      <td></td>\n",
       "    </tr>\n",
       "    <tr>\n",
       "      <th>2</th>\n",
       "      <td>life_stage</td>\n",
       "      <td>100% ossified</td>\n",
       "      <td>lower</td>\n",
       "      <td>Adult</td>\n",
       "      <td></td>\n",
       "    </tr>\n",
       "    <tr>\n",
       "      <th>3</th>\n",
       "      <td>life_stage</td>\n",
       "      <td>1st winter</td>\n",
       "      <td>lower</td>\n",
       "      <td>Juvenile</td>\n",
       "      <td></td>\n",
       "    </tr>\n",
       "    <tr>\n",
       "      <th>4</th>\n",
       "      <td>life_stage</td>\n",
       "      <td>1st year</td>\n",
       "      <td>lower</td>\n",
       "      <td>Juvenile</td>\n",
       "      <td></td>\n",
       "    </tr>\n",
       "  </tbody>\n",
       "</table>\n",
       "</div>"
      ],
      "text/plain": [
       "        label        pattern   attr   replace notes\n",
       "0  life_stage          [imm]  lower  Juvenile      \n",
       "1  life_stage           1 mo  lower  Juvenile      \n",
       "2  life_stage  100% ossified  lower     Adult      \n",
       "3  life_stage     1st winter  lower  Juvenile      \n",
       "4  life_stage       1st year  lower  Juvenile      "
      ]
     },
     "execution_count": 10,
     "metadata": {},
     "output_type": "execute_result"
    }
   ],
   "source": [
    "terms = terms.drop_duplicates()\n",
    "\n",
    "print(terms.shape)\n",
    "terms.head()"
   ]
  },
  {
   "cell_type": "code",
   "execution_count": 11,
   "metadata": {},
   "outputs": [
    {
     "name": "stdout",
     "output_type": "stream",
     "text": [
      "(314, 5)\n"
     ]
    },
    {
     "data": {
      "text/html": [
       "<div>\n",
       "<style scoped>\n",
       "    .dataframe tbody tr th:only-of-type {\n",
       "        vertical-align: middle;\n",
       "    }\n",
       "\n",
       "    .dataframe tbody tr th {\n",
       "        vertical-align: top;\n",
       "    }\n",
       "\n",
       "    .dataframe thead th {\n",
       "        text-align: right;\n",
       "    }\n",
       "</style>\n",
       "<table border=\"1\" class=\"dataframe\">\n",
       "  <thead>\n",
       "    <tr style=\"text-align: right;\">\n",
       "      <th></th>\n",
       "      <th>label</th>\n",
       "      <th>pattern</th>\n",
       "      <th>attr</th>\n",
       "      <th>replace</th>\n",
       "      <th>notes</th>\n",
       "    </tr>\n",
       "  </thead>\n",
       "  <tbody>\n",
       "    <tr>\n",
       "      <th>0</th>\n",
       "      <td>life_stage</td>\n",
       "      <td>[imm]</td>\n",
       "      <td>lower</td>\n",
       "      <td>Juvenile</td>\n",
       "      <td></td>\n",
       "    </tr>\n",
       "    <tr>\n",
       "      <th>1</th>\n",
       "      <td>life_stage</td>\n",
       "      <td>1 mo</td>\n",
       "      <td>lower</td>\n",
       "      <td>Juvenile</td>\n",
       "      <td></td>\n",
       "    </tr>\n",
       "    <tr>\n",
       "      <th>2</th>\n",
       "      <td>life_stage</td>\n",
       "      <td>100% ossified</td>\n",
       "      <td>lower</td>\n",
       "      <td>Adult</td>\n",
       "      <td></td>\n",
       "    </tr>\n",
       "    <tr>\n",
       "      <th>3</th>\n",
       "      <td>life_stage</td>\n",
       "      <td>1st winter</td>\n",
       "      <td>lower</td>\n",
       "      <td>Juvenile</td>\n",
       "      <td></td>\n",
       "    </tr>\n",
       "    <tr>\n",
       "      <th>4</th>\n",
       "      <td>life_stage</td>\n",
       "      <td>1st year</td>\n",
       "      <td>lower</td>\n",
       "      <td>Juvenile</td>\n",
       "      <td></td>\n",
       "    </tr>\n",
       "  </tbody>\n",
       "</table>\n",
       "</div>"
      ],
      "text/plain": [
       "        label        pattern   attr   replace notes\n",
       "0  life_stage          [imm]  lower  Juvenile      \n",
       "1  life_stage           1 mo  lower  Juvenile      \n",
       "2  life_stage  100% ossified  lower     Adult      \n",
       "3  life_stage     1st winter  lower  Juvenile      \n",
       "4  life_stage       1st year  lower  Juvenile      "
      ]
     },
     "execution_count": 11,
     "metadata": {},
     "output_type": "execute_result"
    }
   ],
   "source": [
    "terms = terms[terms['replace'] != 'NS']\n",
    "\n",
    "print(terms.shape)\n",
    "terms.head()"
   ]
  },
  {
   "cell_type": "code",
   "execution_count": 12,
   "metadata": {},
   "outputs": [],
   "source": [
    "# terms.to_csv(TERMS, index=False)"
   ]
  },
  {
   "cell_type": "code",
   "execution_count": 13,
   "metadata": {},
   "outputs": [
    {
     "data": {
      "text/plain": [
       "314"
      ]
     },
     "execution_count": 13,
     "metadata": {},
     "output_type": "execute_result"
    }
   ],
   "source": [
    "life_stages = {r['pattern']: r['replace'] for _, r in terms.iterrows()}\n",
    "len(life_stages)"
   ]
  },
  {
   "cell_type": "code",
   "execution_count": 14,
   "metadata": {},
   "outputs": [],
   "source": [
    "for row in data:\n",
    "    lifestage = row.get('lifestage')\n",
    "    if lifestage:\n",
    "        row['lifestage_cor'] = life_stages.get(lifestage, 'NS')"
   ]
  },
  {
   "cell_type": "markdown",
   "metadata": {},
   "source": [
    "## Get sex notations"
   ]
  },
  {
   "cell_type": "code",
   "execution_count": 15,
   "metadata": {
    "ExecuteTime": {
     "end_time": "2020-08-12T16:23:29.382802Z",
     "start_time": "2020-08-12T16:23:29.344054Z"
    },
    "scrolled": true
   },
   "outputs": [
    {
     "data": {
      "text/plain": [
       "{'',\n",
       " '10',\n",
       " '40',\n",
       " '5',\n",
       " 'adults',\n",
       " 'caught',\n",
       " 'clean',\n",
       " 'dob',\n",
       " 'f or m',\n",
       " 'f phyllotis',\n",
       " 'f; double check sex on skin if possible',\n",
       " 'f?',\n",
       " 'female',\n",
       " 'female ?',\n",
       " 'female female',\n",
       " 'female | male',\n",
       " 'female,female',\n",
       " 'female,male',\n",
       " 'female; female',\n",
       " 'female; female ?',\n",
       " 'female; female; female',\n",
       " 'female; female; female; female',\n",
       " 'female; female; female; female; female',\n",
       " 'female; female; female; female; female; female',\n",
       " 'female; female; female; female; female; female; female',\n",
       " 'female; female; female; female; female; female; female; female',\n",
       " 'female; female; female; female; female; female; female; female; female',\n",
       " 'female; female; female; female; female; female; female; female; female; female',\n",
       " 'female; female; female; male; female',\n",
       " 'female; female; male',\n",
       " 'female; female; male; female; female',\n",
       " 'female; female; male; female; female; female',\n",
       " 'female; female; male; male',\n",
       " 'female; male',\n",
       " 'female; male; female',\n",
       " 'female; male; female; female',\n",
       " 'female; male; female; female; female',\n",
       " 'female; male; female; female; female; female; female',\n",
       " 'female; male; male',\n",
       " 'female; male; male; female',\n",
       " 'female; male; male; male',\n",
       " 'females',\n",
       " 'females,males',\n",
       " 'hermaphrodite',\n",
       " 'implied',\n",
       " 'in',\n",
       " 'in question',\n",
       " 'male',\n",
       " 'male ?',\n",
       " 'male male',\n",
       " 'male,female',\n",
       " 'male,females',\n",
       " 'male,male',\n",
       " 'male,males',\n",
       " 'male; female',\n",
       " 'male; female; female',\n",
       " 'male; female; female; female; female',\n",
       " 'male; female; male; male',\n",
       " 'male; hermaphrodite',\n",
       " 'male; male',\n",
       " 'male; male ?',\n",
       " 'male; male; female',\n",
       " 'male; male; female; male; male',\n",
       " 'male; male; male',\n",
       " 'male; male; male; female',\n",
       " 'male; male; male; female; male',\n",
       " 'male; male; male; male',\n",
       " 'male; male; male; male; male',\n",
       " 'male; male; male; male; male; male',\n",
       " 'male; male; male; male; male; male; male',\n",
       " 'male; male; male; male; male; male; male; male',\n",
       " 'male; male; male; male; male; male; male; male; male',\n",
       " 'male; male; male; male; male; male; male; male; male; male',\n",
       " 'male; male; male; male; male; male; male; male; male; male; male',\n",
       " 'males',\n",
       " 'multiple animals of mixed sex',\n",
       " 'not recorded; male',\n",
       " 'or fat info',\n",
       " 'particular',\n",
       " 'significant degradation',\n",
       " 'stranding record',\n",
       " 'symbol',\n",
       " 'undetermined',\n",
       " 'wt'}"
      ]
     },
     "execution_count": 15,
     "metadata": {},
     "output_type": "execute_result"
    }
   ],
   "source": [
    "sexes = set()\n",
    "for row in data:\n",
    "    sexes.add(row.get('sex', ''))\n",
    "sexes"
   ]
  },
  {
   "cell_type": "markdown",
   "metadata": {},
   "source": [
    "## Update sex fields"
   ]
  },
  {
   "cell_type": "code",
   "execution_count": 16,
   "metadata": {},
   "outputs": [],
   "source": [
    "for row in data:\n",
    "    sex = re.split(r'[;,]', row.get('sex', ''))\n",
    "    sex = {s.strip() for s in sex}\n",
    "    row['sex'] = '; '.join(sex)"
   ]
  },
  {
   "cell_type": "markdown",
   "metadata": {},
   "source": [
    "## Remove female traits from males and vice versa"
   ]
  },
  {
   "cell_type": "code",
   "execution_count": 17,
   "metadata": {
    "ExecuteTime": {
     "end_time": "2020-08-12T16:23:29.453033Z",
     "start_time": "2020-08-12T16:23:29.384300Z"
    }
   },
   "outputs": [],
   "source": [
    "for row in data:\n",
    "    sex = row.get('sex')\n",
    "\n",
    "    if not sex or ';' in sex or sex[0] not in 'fm':\n",
    "        continue\n",
    "\n",
    "    remove = MALE if sex[0] == 'f' else FEMALE\n",
    "    for key in remove:\n",
    "        if key in row:\n",
    "            del row[key]"
   ]
  },
  {
   "cell_type": "markdown",
   "metadata": {},
   "source": [
    "## Only sex traits in reproductive condition"
   ]
  },
  {
   "cell_type": "code",
   "execution_count": 18,
   "metadata": {
    "ExecuteTime": {
     "end_time": "2020-08-12T16:23:29.553556Z",
     "start_time": "2020-08-12T16:23:29.454313Z"
    }
   },
   "outputs": [],
   "source": [
    "for row in data:\n",
    "    for key in BODY:\n",
    "\n",
    "        if key not in row:\n",
    "            continue\n",
    "\n",
    "        # Remove body traits found in reproductive condition\n",
    "        for trait in row[key]:\n",
    "            if trait['field'] == 'reproductivecondition':\n",
    "                del trait"
   ]
  },
  {
   "cell_type": "markdown",
   "metadata": {},
   "source": [
    "## Get max counts of extracted items"
   ]
  },
  {
   "cell_type": "code",
   "execution_count": 19,
   "metadata": {},
   "outputs": [
    {
     "name": "stdout",
     "output_type": "stream",
     "text": [
      "nipples_enlarged 7\n",
      "vagina_state 16\n",
      "pregnancy_state 8\n",
      "embryo_length 9\n",
      "lactation_state 3\n",
      "placental_scar_state 5\n",
      "testes_state 10\n",
      "scrotal_state 11\n",
      "testes_size 4\n"
     ]
    }
   ],
   "source": [
    "counts = defaultdict(int)\n",
    "for row in data:\n",
    "    for field in TRAITS:\n",
    "        value = row.get(field, {})\n",
    "        count = 1 if isinstance(value, dict) else len(value)\n",
    "        counts[field] = max(counts[field], count)\n",
    "\n",
    "for key, value in counts.items():\n",
    "    print(key, value)"
   ]
  },
  {
   "cell_type": "markdown",
   "metadata": {},
   "source": [
    "## Remove traits with too many values"
   ]
  },
  {
   "cell_type": "code",
   "execution_count": 20,
   "metadata": {},
   "outputs": [],
   "source": [
    "MAX_COUNT = 5\n",
    "for row in data:\n",
    "    for trait_name in TRAITS:\n",
    "        trait = row.get(trait_name)\n",
    "        if isinstance(trait, list) and len(trait) > MAX_COUNT:\n",
    "            del row[trait_name]"
   ]
  },
  {
   "cell_type": "markdown",
   "metadata": {},
   "source": [
    "## Remove empty traits"
   ]
  },
  {
   "cell_type": "code",
   "execution_count": 21,
   "metadata": {
    "ExecuteTime": {
     "end_time": "2020-08-12T16:23:29.686791Z",
     "start_time": "2020-08-12T16:23:29.554720Z"
    }
   },
   "outputs": [],
   "source": [
    "for row in data:\n",
    "    for key in TRAITS:\n",
    "        if key in row and not row[key]:\n",
    "            del row[key]"
   ]
  },
  {
   "cell_type": "markdown",
   "metadata": {},
   "source": [
    "## Remove empty records"
   ]
  },
  {
   "cell_type": "code",
   "execution_count": 22,
   "metadata": {
    "ExecuteTime": {
     "end_time": "2020-08-12T16:23:29.760301Z",
     "start_time": "2020-08-12T16:23:29.688260Z"
    }
   },
   "outputs": [
    {
     "name": "stdout",
     "output_type": "stream",
     "text": [
      "186077\n",
      "179184\n"
     ]
    }
   ],
   "source": [
    "print(len(data))\n",
    "\n",
    "data = [d for d in data if any(d.get(t) for t in TRAITS)]\n",
    "\n",
    "print(len(data))"
   ]
  },
  {
   "cell_type": "markdown",
   "metadata": {},
   "source": [
    "## Get the maximum gonad length and width measurements"
   ]
  },
  {
   "cell_type": "code",
   "execution_count": 23,
   "metadata": {},
   "outputs": [],
   "source": [
    "GONAD_SIZE = \"\"\" testes_size ovaries_size \"\"\".split()"
   ]
  },
  {
   "cell_type": "code",
   "execution_count": 24,
   "metadata": {},
   "outputs": [],
   "source": [
    "for row in data:\n",
    "\n",
    "    row['max_testes_length'] = 0\n",
    "    row['max_testes_width'] = 0\n",
    "    row['max_ovaries_length'] = 0\n",
    "    row['max_ovaries_width'] = 0\n",
    "\n",
    "    for trait_name in [t for t in GONAD_SIZE if t in row]:\n",
    "        for trait in row[trait_name]:\n",
    "            gonad = trait_name.split('_')[0]\n",
    "\n",
    "            len_key = f'max_{gonad}_length'\n",
    "            wid_key = f'max_{gonad}_width'\n",
    "\n",
    "            # The trait has both a length and a width\n",
    "            if isinstance(trait['value'], list):\n",
    "                length, width = trait['value']\n",
    "                row[len_key] = max(row[len_key], length)\n",
    "                row[wid_key] = max(row[wid_key], width)\n",
    "\n",
    "            # The trait has only a width\n",
    "            elif trait.get('dimension') == 'width':\n",
    "                row[wid_key] = max(row[wid_key], width)\n",
    "\n",
    "            # The trait has only a length\n",
    "            else:\n",
    "                row[len_key] = max(row[len_key], length)\n",
    "\n",
    "    row['max_testes_length'] = row['max_testes_length'] if row['max_testes_length'] else ''\n",
    "    row['max_testes_width'] = row['max_testes_width'] if row['max_testes_width'] else ''\n",
    "    row['max_ovaries_length'] = row['max_ovaries_length'] if row['max_ovaries_length'] else ''\n",
    "    row['max_ovaries_width'] = row['max_ovaries_width'] if row['max_ovaries_width'] else ''"
   ]
  },
  {
   "cell_type": "markdown",
   "metadata": {},
   "source": [
    "## Combine duplicate extractions\n",
    "\n",
    "The same trait values may be written in multiple locations or in different fields"
   ]
  },
  {
   "cell_type": "code",
   "execution_count": 25,
   "metadata": {},
   "outputs": [],
   "source": [
    "for row in data:\n",
    "\n",
    "    for trait_name in [t for t in TRAITS if t in row]:\n",
    "\n",
    "        trait_dict = {}\n",
    "\n",
    "        for trait in row[trait_name]:\n",
    "\n",
    "            loc = {k: v for k, v in trait.items() if k in LOC}\n",
    "            fld = {k: v for k, v in trait.items() if k not in LOC}\n",
    "\n",
    "            # Build a key out of the non-location fields\n",
    "            key = [(k, tuple(v) if isinstance(v, list) else v)\n",
    "                   for k, v in fld.items()]\n",
    "            key = tuple(sorted(key))\n",
    "\n",
    "            # Append a location if this is a duplicate\n",
    "            if key in trait_dict:\n",
    "                trait_dict[key]['location'].append(loc)\n",
    "\n",
    "            # Create a new record if this is not a duplicate\n",
    "            else:\n",
    "                trait_dict[key] = fld\n",
    "                trait_dict[key]['location'] = [loc]\n",
    "\n",
    "        # Update the extraction\n",
    "        values = [v for v in trait_dict.values()]\n",
    "        row[trait_name] = values[0] if len(values) == 1 else values"
   ]
  },
  {
   "cell_type": "markdown",
   "metadata": {},
   "source": [
    "## Merge the trait locations into a set"
   ]
  },
  {
   "cell_type": "code",
   "execution_count": 26,
   "metadata": {},
   "outputs": [],
   "source": [
    "for row in data:\n",
    "    locations = set()\n",
    "\n",
    "    for trait_name in [t for t in TRAITS if t in row]:\n",
    "        if not isinstance(row[trait_name], list):\n",
    "            row[trait_name] = [row[trait_name]]\n",
    "        for trait in row[trait_name]:\n",
    "            for loc in trait['location']:\n",
    "                locations.add(loc['field'])\n",
    "\n",
    "    row['loc'] = ' '.join(sorted(locations))"
   ]
  },
  {
   "cell_type": "code",
   "execution_count": 27,
   "metadata": {
    "scrolled": true
   },
   "outputs": [
    {
     "name": "stdout",
     "output_type": "stream",
     "text": [
      "[{'catalognumber': '32114',\n",
      "  'collectioncode': 'Mammals',\n",
      "  'continent': 'North America',\n",
      "  'country': 'United States',\n",
      "  'county': 'Carroll',\n",
      "  'day': '8',\n",
      "  'decimallatitude': '35.8640556',\n",
      "  'decimallongitude': '-88.6769167',\n",
      "  'dynamicproperties': '{\"totalLengthInmm\":\"225\", \"tailLengthInmm\":\"88\", '\n",
      "                       '\"hindfootLengthInmm\":\"32\", \"earLengthInmm\":\"18\", '\n",
      "                       '\"weightIng\":\"78\"}',\n",
      "  'eventdate': '2003-10-08',\n",
      "  'fieldnotes': 'Yes',\n",
      "  'geodeticdatum': 'NAD83',\n",
      "  'georeferenceprotocol': 'Conversion',\n",
      "  'georeferencesources': 'MaNIS [http://manisnet.org/gci2.html]',\n",
      "  'georeferenceverificationstatus': 'Verified by contributor',\n",
      "  'institutioncode': 'OMNH',\n",
      "  'loc': 'reproductivecondition',\n",
      "  'locality': 'Milan Army Ammunition Plant, Milan',\n",
      "  'max_ovaries_length': '',\n",
      "  'max_ovaries_width': '',\n",
      "  'max_testes_length': 20.0,\n",
      "  'max_testes_width': 11.0,\n",
      "  'month': '10',\n",
      "  'occurrenceid': 'urn:catalog:OMNH:Mammals:32114',\n",
      "  'recordedby': 'Kennedy, M. L., et al.',\n",
      "  'reproductivecondition': 'TS=20x11',\n",
      "  'scientificname': 'Sigmodon hispidus',\n",
      "  'sex': 'male',\n",
      "  'stateprovince': 'Tennessee',\n",
      "  'testes_size': [{'location': [{'end': 8,\n",
      "                                 'field': 'reproductivecondition',\n",
      "                                 'start': 0}],\n",
      "                   'units': None,\n",
      "                   'units_inferred': True,\n",
      "                   'value': [20.0, 11.0]}],\n",
      "  'verbatimcoordinates': '35 51 50.6N 88 40 36.9W',\n",
      "  'verbatimcoordinatesystem': 'Degrees minutes seconds',\n",
      "  'verbatimeventdate': '2003-10-08',\n",
      "  'year': '2003'},\n",
      " {'catalognumber': '32304',\n",
      "  'collectioncode': 'Mammals',\n",
      "  'continent': 'North America',\n",
      "  'country': 'United States',\n",
      "  'county': 'Gibson',\n",
      "  'day': '4',\n",
      "  'decimallatitude': '35.9017778',\n",
      "  'decimallongitude': '-88.70975',\n",
      "  'dynamicproperties': '{\"totalLengthInmm\":\"153\", \"tailLengthInmm\":\"70\", '\n",
      "                       '\"hindfootLengthInmm\":\"19\", \"earLengthInmm\":\"18\", '\n",
      "                       '\"weightIng\":\"19\"}',\n",
      "  'eventdate': '2003-10-04',\n",
      "  'fieldnotes': 'Yes',\n",
      "  'geodeticdatum': 'NAD83',\n",
      "  'georeferenceprotocol': 'Conversion',\n",
      "  'georeferencesources': 'MaNIS [http://manisnet.org/gci2.html]',\n",
      "  'georeferenceverificationstatus': 'Verified by contributor',\n",
      "  'habitat': 'transect 3, field',\n",
      "  'institutioncode': 'OMNH',\n",
      "  'lactation_state': [{'location': [{'end': 18,\n",
      "                                     'field': 'reproductivecondition',\n",
      "                                     'start': 0}],\n",
      "                       'value': 'not lactating'}],\n",
      "  'loc': 'reproductivecondition',\n",
      "  'locality': 'Milan Army Ammunition Plant, Milan',\n",
      "  'max_ovaries_length': '',\n",
      "  'max_ovaries_width': '',\n",
      "  'max_testes_length': '',\n",
      "  'max_testes_width': '',\n",
      "  'month': '10',\n",
      "  'occurrenceid': 'urn:catalog:OMNH:Mammals:32304',\n",
      "  'recordedby': 'Kennedy, M. L., et al.',\n",
      "  'reproductivecondition': 'no embs, lactating',\n",
      "  'scientificname': 'Peromyscus leucopus',\n",
      "  'sex': 'female',\n",
      "  'stateprovince': 'Tennessee',\n",
      "  'verbatimcoordinates': '35 54 6.4N 88 42 35.1W',\n",
      "  'verbatimcoordinatesystem': 'Degrees minutes seconds',\n",
      "  'verbatimeventdate': '2003-10-04',\n",
      "  'year': '2003'},\n",
      " {'catalognumber': '90252',\n",
      "  'collectioncode': 'Mammals',\n",
      "  'continent': 'North America',\n",
      "  'country': 'Canada',\n",
      "  'county': 'Algoma',\n",
      "  'day': '29',\n",
      "  'decimallatitude': '47.33719',\n",
      "  'decimallongitude': '-84.56176',\n",
      "  'eventdate': '1984-07-29',\n",
      "  'geodeticdatum': 'UTMG NAD27, Decimal Degrees NAD83',\n",
      "  'georeferencedby': 'Susan M Woodward, Janet Sit (ROM)',\n",
      "  'georeferenceddate': '20090424',\n",
      "  'georeferenceprotocol': 'MaNIS/HerpNet/ORNIS Georeferencing Guidelines, GBIF '\n",
      "                          'Best Practices',\n",
      "  'georeferencesources': 'Energy, Mines and Resources Canada, Series A751, '\n",
      "                         'Agawa Bay, 41 N/07, 1:50,000, Edition 3, 1995',\n",
      "  'georeferenceverificationstatus': 'unverified',\n",
      "  'highergeography': 'North America; Canada; Ontario; Algoma',\n",
      "  'institutioncode': 'ROM',\n",
      "  'lactation_state': [{'location': [{'end': 17,\n",
      "                                     'field': 'reproductivecondition',\n",
      "                                     'start': 8}],\n",
      "                       'value': 'lactating'}],\n",
      "  'lifestage': 'adult',\n",
      "  'lifestage_cor': 'Adult',\n",
      "  'loc': 'reproductivecondition',\n",
      "  'locality': \"Lake Superior Provincial Park, Near Frater's Creek, Trapline 09\",\n",
      "  'max_ovaries_length': '',\n",
      "  'max_ovaries_width': '',\n",
      "  'max_testes_length': '',\n",
      "  'max_testes_width': '',\n",
      "  'month': '7',\n",
      "  'occurrenceid': 'URI:catalog:ROM:Mammals:90252',\n",
      "  'recordedby': 'Gibson, JS',\n",
      "  'reproductivecondition': 'no emb; lactating',\n",
      "  'scientificname': 'Sorex cinereus',\n",
      "  'sex': 'female',\n",
      "  'stateprovince': 'Ontario',\n",
      "  'verbatimcoordinates': '472000 N;0843400 W',\n",
      "  'verbatimeventdate': '19840729',\n",
      "  'verbatimlocality': \"Lake Superior Provincial Park, Near Frater's Creek, \"\n",
      "                      'Trapline 09',\n",
      "  'year': '1984'},\n",
      " {'catalognumber': '92241',\n",
      "  'collectioncode': 'Mammals',\n",
      "  'continent': 'North America',\n",
      "  'coordinateuncertaintyinmeters': '4',\n",
      "  'country': 'Canada',\n",
      "  'county': 'Algoma',\n",
      "  'decimallatitude': '46.84407',\n",
      "  'decimallongitude': '-83.14834',\n",
      "  'eventdate': '1979-11',\n",
      "  'geodeticdatum': 'NAD83',\n",
      "  'georeferencedby': 'Janet Sit (ROM)',\n",
      "  'georeferenceddate': '20070208',\n",
      "  'georeferenceprotocol': 'MaNIS/HerpNet/ORNIS Georeferencing Guidelines, GBIF '\n",
      "                          'Best Practices',\n",
      "  'georeferencesources': 'Energy, Mines and Resources Canada, Series A501, '\n",
      "                         'Blind River, 41 J, 1:250,000, Edition 4, 1997',\n",
      "  'georeferenceverificationstatus': 'unverified',\n",
      "  'highergeography': 'North America; Canada; Ontario; Algoma',\n",
      "  'institutioncode': 'ROM',\n",
      "  'lifestage': 'juvenile; 1 yr',\n",
      "  'lifestage_cor': 'NS',\n",
      "  'loc': 'reproductivecondition',\n",
      "  'locality': 'Wardle Township',\n",
      "  'max_ovaries_length': '',\n",
      "  'max_ovaries_width': '',\n",
      "  'max_testes_length': '',\n",
      "  'max_testes_width': '',\n",
      "  'month': '11',\n",
      "  'occurrenceid': 'URI:catalog:ROM:Mammals:92241',\n",
      "  'pregnancy_state': [{'location': [{'end': 8,\n",
      "                                     'field': 'reproductivecondition',\n",
      "                                     'start': 0}],\n",
      "                       'value': 'pregnant'}],\n",
      "  'recordedby': 'Quinn, NWS',\n",
      "  'reproductivecondition': 'pregnant; 4 emb 3L 1R',\n",
      "  'scientificname': 'Lynx canadensis',\n",
      "  'sex': 'female',\n",
      "  'stateprovince': 'Ontario',\n",
      "  'verbatimcoordinates': '465100 N;0830900 W',\n",
      "  'verbatimeventdate': '19791100',\n",
      "  'verbatimlocality': 'Wardle Township',\n",
      "  'year': '1979'},\n",
      " {'catalognumber': '91664',\n",
      "  'collectioncode': 'Mammals',\n",
      "  'continent': 'North America',\n",
      "  'country': 'Canada',\n",
      "  'county': 'Algoma',\n",
      "  'day': '07',\n",
      "  'decimallatitude': '47.79385',\n",
      "  'decimallongitude': '-84.90234',\n",
      "  'eventdate': '1985-08-07',\n",
      "  'geodeticdatum': 'UTMG NAD27, Decimal Degrees NAD83',\n",
      "  'georeferencedby': 'Susan M Woodward, Janet Sit (ROM)',\n",
      "  'georeferenceddate': '20090424',\n",
      "  'georeferenceprotocol': 'MaNIS/HerpNet/ORNIS Georeferencing Guidelines, GBIF '\n",
      "                          'Best Practices',\n",
      "  'georeferencesources': 'Energy, Mines and Resources Canada, Series A751, '\n",
      "                         'Michipicoten, 41 N/15, 1:50,000, Edition 3, 1994',\n",
      "  'georeferenceverificationstatus': 'unverified',\n",
      "  'highergeography': 'North America; Canada; Ontario; Algoma',\n",
      "  'institutioncode': 'ROM',\n",
      "  'lifestage': 'adult',\n",
      "  'lifestage_cor': 'Adult',\n",
      "  'loc': 'reproductivecondition',\n",
      "  'locality': 'Lake Superior Provincial Park, Trapline 14',\n",
      "  'max_ovaries_length': '',\n",
      "  'max_ovaries_width': '',\n",
      "  'max_testes_length': 3.0,\n",
      "  'max_testes_width': 2.0,\n",
      "  'month': '8',\n",
      "  'occurrenceid': 'URI:catalog:ROM:Mammals:91664',\n",
      "  'recordedby': 'Arts, M',\n",
      "  'reproductivecondition': 'testes-3X2',\n",
      "  'scientificname': 'Peromyscus maniculatus',\n",
      "  'sex': 'male',\n",
      "  'stateprovince': 'Ontario',\n",
      "  'testes_size': [{'location': [{'end': 10,\n",
      "                                 'field': 'reproductivecondition',\n",
      "                                 'start': 0}],\n",
      "                   'units': None,\n",
      "                   'units_inferred': True,\n",
      "                   'value': [3.0, 2.0]}],\n",
      "  'verbatimcoordinates': '474700 N;0845400 W',\n",
      "  'verbatimeventdate': '19850807',\n",
      "  'verbatimlocality': 'Lake Superior Provincial Park, Trapline 14',\n",
      "  'year': '1985'}]\n"
     ]
    }
   ],
   "source": [
    "pprint(data[:5])"
   ]
  },
  {
   "cell_type": "markdown",
   "metadata": {},
   "source": [
    "## Remove unwanted columns and values"
   ]
  },
  {
   "cell_type": "code",
   "execution_count": 28,
   "metadata": {},
   "outputs": [],
   "source": [
    "for row in data:\n",
    "\n",
    "    for trait_name in [t for t in TRAITS if t in row]:\n",
    "        \n",
    "        # Remove gonad sizes because they only want the max values\n",
    "        if trait_name in GONAD_SIZE:\n",
    "            del row[trait_name]\n",
    "        # Just keep the first value? Seems odd to me\n",
    "        else:\n",
    "            row[trait_name] = row[trait_name][0]['value']"
   ]
  },
  {
   "cell_type": "markdown",
   "metadata": {},
   "source": [
    "## Add a binomial to the data"
   ]
  },
  {
   "cell_type": "code",
   "execution_count": 29,
   "metadata": {},
   "outputs": [],
   "source": [
    "for row in data:\n",
    "    binomial = row.get('scientificname', '').split()[:2]\n",
    "    binomial = ' '.join(binomial)\n",
    "    row['binomial'] = binomial"
   ]
  },
  {
   "cell_type": "markdown",
   "metadata": {},
   "source": [
    "## Count extracts by binomial"
   ]
  },
  {
   "cell_type": "code",
   "execution_count": 30,
   "metadata": {},
   "outputs": [],
   "source": [
    "binomials = defaultdict(lambda: defaultdict(int))\n",
    "\n",
    "for row in data:\n",
    "    for trait_name in TRAITS:\n",
    "        if row.get(trait_name):\n",
    "            binomials[row['binomial']][trait_name] += 1"
   ]
  },
  {
   "cell_type": "code",
   "execution_count": 31,
   "metadata": {},
   "outputs": [],
   "source": [
    "for binomial, count in binomials.items():\n",
    "    count['binomial'] = binomial"
   ]
  },
  {
   "cell_type": "code",
   "execution_count": 32,
   "metadata": {},
   "outputs": [],
   "source": [
    "df = pd.DataFrame(binomials.values()).fillna(0)\n",
    "df = df.set_index('binomial')\n",
    "df = df.astype(int)\n",
    "df = df.sort_index()"
   ]
  },
  {
   "cell_type": "code",
   "execution_count": 33,
   "metadata": {},
   "outputs": [],
   "source": [
    "df.to_csv(COUNTS)"
   ]
  },
  {
   "cell_type": "code",
   "execution_count": 34,
   "metadata": {},
   "outputs": [
    {
     "data": {
      "text/html": [
       "<div>\n",
       "<style scoped>\n",
       "    .dataframe tbody tr th:only-of-type {\n",
       "        vertical-align: middle;\n",
       "    }\n",
       "\n",
       "    .dataframe tbody tr th {\n",
       "        vertical-align: top;\n",
       "    }\n",
       "\n",
       "    .dataframe thead th {\n",
       "        text-align: right;\n",
       "    }\n",
       "</style>\n",
       "<table border=\"1\" class=\"dataframe\">\n",
       "  <thead>\n",
       "    <tr style=\"text-align: right;\">\n",
       "      <th></th>\n",
       "      <th>lactation_state</th>\n",
       "      <th>pregnancy_state</th>\n",
       "      <th>embryo_length</th>\n",
       "      <th>nipples_enlarged</th>\n",
       "      <th>vagina_state</th>\n",
       "      <th>scrotal_state</th>\n",
       "      <th>placental_scar_state</th>\n",
       "      <th>testes_state</th>\n",
       "    </tr>\n",
       "    <tr>\n",
       "      <th>binomial</th>\n",
       "      <th></th>\n",
       "      <th></th>\n",
       "      <th></th>\n",
       "      <th></th>\n",
       "      <th></th>\n",
       "      <th></th>\n",
       "      <th></th>\n",
       "      <th></th>\n",
       "    </tr>\n",
       "  </thead>\n",
       "  <tbody>\n",
       "    <tr>\n",
       "      <th></th>\n",
       "      <td>0</td>\n",
       "      <td>0</td>\n",
       "      <td>0</td>\n",
       "      <td>1</td>\n",
       "      <td>1</td>\n",
       "      <td>0</td>\n",
       "      <td>0</td>\n",
       "      <td>0</td>\n",
       "    </tr>\n",
       "    <tr>\n",
       "      <th>Abelmoschomys simpsoni</th>\n",
       "      <td>0</td>\n",
       "      <td>0</td>\n",
       "      <td>0</td>\n",
       "      <td>1</td>\n",
       "      <td>0</td>\n",
       "      <td>0</td>\n",
       "      <td>0</td>\n",
       "      <td>0</td>\n",
       "    </tr>\n",
       "    <tr>\n",
       "      <th>Abrocoma cinerea</th>\n",
       "      <td>0</td>\n",
       "      <td>0</td>\n",
       "      <td>0</td>\n",
       "      <td>0</td>\n",
       "      <td>8</td>\n",
       "      <td>0</td>\n",
       "      <td>0</td>\n",
       "      <td>0</td>\n",
       "    </tr>\n",
       "    <tr>\n",
       "      <th>Abrothrix andinus</th>\n",
       "      <td>8</td>\n",
       "      <td>0</td>\n",
       "      <td>3</td>\n",
       "      <td>1</td>\n",
       "      <td>16</td>\n",
       "      <td>0</td>\n",
       "      <td>0</td>\n",
       "      <td>4</td>\n",
       "    </tr>\n",
       "    <tr>\n",
       "      <th>Abrothrix hershkovitzi</th>\n",
       "      <td>0</td>\n",
       "      <td>0</td>\n",
       "      <td>0</td>\n",
       "      <td>0</td>\n",
       "      <td>0</td>\n",
       "      <td>1</td>\n",
       "      <td>0</td>\n",
       "      <td>0</td>\n",
       "    </tr>\n",
       "  </tbody>\n",
       "</table>\n",
       "</div>"
      ],
      "text/plain": [
       "                        lactation_state  pregnancy_state  embryo_length  \\\n",
       "binomial                                                                  \n",
       "                                      0                0              0   \n",
       "Abelmoschomys simpsoni                0                0              0   \n",
       "Abrocoma cinerea                      0                0              0   \n",
       "Abrothrix andinus                     8                0              3   \n",
       "Abrothrix hershkovitzi                0                0              0   \n",
       "\n",
       "                        nipples_enlarged  vagina_state  scrotal_state  \\\n",
       "binomial                                                                \n",
       "                                       1             1              0   \n",
       "Abelmoschomys simpsoni                 1             0              0   \n",
       "Abrocoma cinerea                       0             8              0   \n",
       "Abrothrix andinus                      1            16              0   \n",
       "Abrothrix hershkovitzi                 0             0              1   \n",
       "\n",
       "                        placental_scar_state  testes_state  \n",
       "binomial                                                    \n",
       "                                           0             0  \n",
       "Abelmoschomys simpsoni                     0             0  \n",
       "Abrocoma cinerea                           0             0  \n",
       "Abrothrix andinus                          0             4  \n",
       "Abrothrix hershkovitzi                     0             0  "
      ]
     },
     "execution_count": 34,
     "metadata": {},
     "output_type": "execute_result"
    }
   ],
   "source": [
    "df.head()"
   ]
  },
  {
   "cell_type": "markdown",
   "metadata": {},
   "source": [
    "## Convert to data frame and remove duplicate records"
   ]
  },
  {
   "cell_type": "code",
   "execution_count": 35,
   "metadata": {},
   "outputs": [
    {
     "name": "stdout",
     "output_type": "stream",
     "text": [
      "(179184, 74)\n"
     ]
    }
   ],
   "source": [
    "df = pd.DataFrame(data)\n",
    "print(df.shape)\n",
    "\n",
    "# df = df.drop_duplicates()\n",
    "# print(df.shape)\n",
    "\n",
    "# columns = sorted(df.columns)\n",
    "# df = df.reindex(columns, axis='columns').fillna('')\n",
    "# print(df.shape)"
   ]
  },
  {
   "cell_type": "code",
   "execution_count": 36,
   "metadata": {},
   "outputs": [],
   "source": [
    "df.to_csv(OUTPUT, index=False)"
   ]
  },
  {
   "cell_type": "code",
   "execution_count": null,
   "metadata": {},
   "outputs": [],
   "source": []
  }
 ],
 "metadata": {
  "hide_input": false,
  "kernelspec": {
   "display_name": "Python 3 (ipykernel)",
   "language": "python",
   "name": "python3"
  },
  "language_info": {
   "codemirror_mode": {
    "name": "ipython",
    "version": 3
   },
   "file_extension": ".py",
   "mimetype": "text/x-python",
   "name": "python",
   "nbconvert_exporter": "python",
   "pygments_lexer": "ipython3",
   "version": "3.9.5"
  },
  "varInspector": {
   "cols": {
    "lenName": 16,
    "lenType": 16,
    "lenVar": 40
   },
   "kernels_config": {
    "python": {
     "delete_cmd_postfix": "",
     "delete_cmd_prefix": "del ",
     "library": "var_list.py",
     "varRefreshCmd": "print(var_dic_list())"
    },
    "r": {
     "delete_cmd_postfix": ") ",
     "delete_cmd_prefix": "rm(",
     "library": "var_list.r",
     "varRefreshCmd": "cat(var_dic_list()) "
    }
   },
   "types_to_exclude": [
    "module",
    "function",
    "builtin_function_or_method",
    "instance",
    "_Feature"
   ],
   "window_display": false
  }
 },
 "nbformat": 4,
 "nbformat_minor": 4
}
