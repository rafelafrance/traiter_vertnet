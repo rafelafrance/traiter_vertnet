{
 "cells": [
  {
   "cell_type": "markdown",
   "metadata": {},
   "source": [
    "# Clean Data Extracted from VertNet"
   ]
  },
  {
   "cell_type": "code",
   "execution_count": 1,
   "metadata": {
    "ExecuteTime": {
     "end_time": "2020-08-12T16:23:27.374839Z",
     "start_time": "2020-08-12T16:23:27.371941Z"
    }
   },
   "outputs": [],
   "source": [
    "import sys\n",
    "sys.path.append('..')"
   ]
  },
  {
   "cell_type": "code",
   "execution_count": 2,
   "metadata": {
    "ExecuteTime": {
     "end_time": "2020-08-12T16:23:27.617132Z",
     "start_time": "2020-08-12T16:23:27.378658Z"
    }
   },
   "outputs": [],
   "source": [
    "import re\n",
    "from pathlib import Path\n",
    "from pprint import pp\n",
    "import json\n",
    "from collections import defaultdict\n",
    "from ipywidgets import interact\n",
    "from pprint import pprint\n",
    "from tqdm.notebook import tqdm\n",
    "import pandas as pd"
   ]
  },
  {
   "cell_type": "code",
   "execution_count": 3,
   "metadata": {
    "ExecuteTime": {
     "end_time": "2020-08-12T16:23:27.620750Z",
     "start_time": "2020-08-12T16:23:27.618279Z"
    }
   },
   "outputs": [],
   "source": [
    "DATA_DIR = Path('..') / 'data' / 'output'\n",
    "ARGS_DIR =  Path('..') / 'args'\n",
    "\n",
    "BASE_NAME = 'bats_2021-10-19'\n",
    "VER = 'a'\n",
    "JSONL = DATA_DIR / 'bats_2021-10-19.jsonl'\n",
    "OUTPUT = DATA_DIR / f'{BASE_NAME}{VER}.csv'\n",
    "COUNTS = DATA_DIR / f'{BASE_NAME}{VER}_counts.csv'\n",
    "\n",
    "ARGS = ARGS_DIR / 'bats.args'"
   ]
  },
  {
   "cell_type": "code",
   "execution_count": 4,
   "metadata": {},
   "outputs": [],
   "source": [
    "VOCAB_DIR = Path('..') / 'vertnet' / 'vocabulary'\n",
    "\n",
    "TERMS = VOCAB_DIR / 'life_stage.csv'"
   ]
  },
  {
   "cell_type": "markdown",
   "metadata": {},
   "source": [
    "## Get traits and other fields from the arguments"
   ]
  },
  {
   "cell_type": "code",
   "execution_count": 5,
   "metadata": {
    "ExecuteTime": {
     "end_time": "2020-08-12T16:23:27.634066Z",
     "start_time": "2020-08-12T16:23:27.621986Z"
    },
    "scrolled": true
   },
   "outputs": [
    {
     "data": {
      "text/plain": [
       "['catalognumber',\n",
       " 'collectioncode',\n",
       " 'continent',\n",
       " 'coordinateprecision',\n",
       " 'coordinateuncertaintyinmeters',\n",
       " 'country',\n",
       " 'countrycode',\n",
       " 'county',\n",
       " 'decimallatitude',\n",
       " 'decimallongitude',\n",
       " 'eventdate',\n",
       " 'footprintspatialfit',\n",
       " 'footprintsrs',\n",
       " 'footprintwkt',\n",
       " 'geodeticdatum',\n",
       " 'geologicalcontextid',\n",
       " 'georeferencedby',\n",
       " 'georeferenceddate',\n",
       " 'georeferenceprotocol',\n",
       " 'georeferenceremarks',\n",
       " 'georeferencesources',\n",
       " 'georeferenceverificationstatus',\n",
       " 'habitat',\n",
       " 'highergeography',\n",
       " 'highergeographyid',\n",
       " 'highestbiostratigraphiczone',\n",
       " 'institutioncode',\n",
       " 'island',\n",
       " 'islandgroup',\n",
       " 'lifestage',\n",
       " 'locality',\n",
       " 'locationaccordingto',\n",
       " 'locationid',\n",
       " 'locationremarks',\n",
       " 'maximumdepthinmeters',\n",
       " 'maximumdistanceabovesurfaceinmeters',\n",
       " 'maximumelevationinmeters',\n",
       " 'minimumdepthinmeters',\n",
       " 'minimumdistanceabovesurfaceinmeters',\n",
       " 'minimumelevationinmeters',\n",
       " 'municipality',\n",
       " 'occurrenceid',\n",
       " 'recordedby',\n",
       " 'references',\n",
       " 'scientificname',\n",
       " 'sex',\n",
       " 'verbatimcoordinates',\n",
       " 'verbatimcoordinatesystem',\n",
       " 'verbatimdepth',\n",
       " 'verbatimelevation',\n",
       " 'verbatimeventdate',\n",
       " 'verbatimlatitude',\n",
       " 'verbatimlocality',\n",
       " 'verbatimlongitude',\n",
       " 'verbatimsrs',\n",
       " 'waterbody']"
      ]
     },
     "execution_count": 5,
     "metadata": {},
     "output_type": "execute_result"
    }
   ],
   "source": [
    "TRAITS = [ln.strip().replace('--trait=', '')\n",
    "          for ln in open(ARGS).readlines() if ln.startswith('--trait=')]\n",
    "OTHERS = [ln.strip().replace('--extra-field=', '')\n",
    "          for ln in open(ARGS).readlines() if ln.startswith('--extra-field=')]\n",
    "# TRAITS\n",
    "OTHERS"
   ]
  },
  {
   "cell_type": "markdown",
   "metadata": {},
   "source": [
    "## Trait and field categories"
   ]
  },
  {
   "cell_type": "code",
   "execution_count": 6,
   "metadata": {
    "ExecuteTime": {
     "end_time": "2020-08-12T16:23:27.640443Z",
     "start_time": "2020-08-12T16:23:27.635160Z"
    }
   },
   "outputs": [],
   "source": [
    "LOC = \"\"\" start end field \"\"\".split()\n",
    "\n",
    "MALE = \"\"\" testes_size testes_state \"\"\".split()\n",
    "\n",
    "FEMALE = \"\"\" embryo_count embryo_length lactation_state\n",
    "    nipple_count nipple_state ovaries_size ovaries_state\n",
    "    placental_scar_count pregnancy_state \"\"\".split()\n",
    "\n",
    "REPRO = MALE + FEMALE\n",
    "\n",
    "BODY = [t for t in TRAITS if t not in REPRO]\n",
    "\n",
    "GONAD_SIZE = \"\"\" testes_size ovaries_size \"\"\".split()"
   ]
  },
  {
   "cell_type": "markdown",
   "metadata": {},
   "source": [
    "## Read data"
   ]
  },
  {
   "cell_type": "code",
   "execution_count": 7,
   "metadata": {
    "ExecuteTime": {
     "end_time": "2020-08-12T16:23:29.337860Z",
     "start_time": "2020-08-12T16:23:27.641402Z"
    }
   },
   "outputs": [
    {
     "data": {
      "text/plain": [
       "72376"
      ]
     },
     "execution_count": 7,
     "metadata": {},
     "output_type": "execute_result"
    }
   ],
   "source": [
    "with open(JSONL) as json_file:\n",
    "    data = [json.loads(d) for d in json_file.readlines()]\n",
    "len(data)"
   ]
  },
  {
   "cell_type": "code",
   "execution_count": 8,
   "metadata": {
    "ExecuteTime": {
     "end_time": "2020-08-12T16:23:29.343091Z",
     "start_time": "2020-08-12T16:23:29.338932Z"
    },
    "scrolled": true
   },
   "outputs": [
    {
     "data": {
      "text/plain": [
       "{'catalognumber': '169358',\n",
       " 'continent': 'North America',\n",
       " 'country': 'U S A',\n",
       " 'county': 'BREWSTER CO',\n",
       " 'decimallatitude': '29.16',\n",
       " 'decimallongitude': '-103.61',\n",
       " 'eventdate': '1974-06-11',\n",
       " 'geodeticdatum': 'NAD83',\n",
       " 'georeferencedby': 'Eifler, Maria',\n",
       " 'georeferenceddate': '2015-03-04',\n",
       " 'georeferencesources': 'Topoquest.com',\n",
       " 'locality': 'Big Bend National Park; Terlingua Creek',\n",
       " 'locationremarks': 'X-site',\n",
       " 'occurrenceid': '08e7aea6-2340-4eeb-b7cf-e6188871ace0',\n",
       " 'occurrenceremarks': 'bears Purdue University tag (no catalog number)',\n",
       " 'recordedby': 'R M  Payne, David Arlen Easterla',\n",
       " 'sex': 'female',\n",
       " 'verbatimcoordinatesystem': 'decimal degrees',\n",
       " 'verbatimeventdate': '1974-06-11',\n",
       " 'institutioncode': 'KU',\n",
       " 'collectioncode': 'KUM',\n",
       " 'dynamicproperties': 'TotalLength: 108.0; TailLength: 35.0; HindFoot: 8.0; EarLength: 13.0; BodyMass: 12.4',\n",
       " 'scientificname': 'Tadarida brasiliensis mexicana',\n",
       " 'body_mass': [{'start': 70,\n",
       "   'end': 84,\n",
       "   'units': None,\n",
       "   'value': 12.4,\n",
       "   'units_inferred': True,\n",
       "   'field': 'dynamicproperties'}],\n",
       " 'ear_length': [{'start': 53,\n",
       "   'end': 68,\n",
       "   'units': None,\n",
       "   'value': 13.0,\n",
       "   'units_inferred': True,\n",
       "   'field': 'dynamicproperties'}],\n",
       " 'hind_foot_length': [{'start': 38,\n",
       "   'end': 51,\n",
       "   'units': None,\n",
       "   'value': 8.0,\n",
       "   'units_inferred': True,\n",
       "   'field': 'dynamicproperties'}],\n",
       " 'tail_length': [{'start': 20,\n",
       "   'end': 36,\n",
       "   'units': None,\n",
       "   'value': 35.0,\n",
       "   'units_inferred': True,\n",
       "   'field': 'dynamicproperties'}],\n",
       " 'total_length': [{'start': 0,\n",
       "   'end': 18,\n",
       "   'units': None,\n",
       "   'value': 108.0,\n",
       "   'units_inferred': True,\n",
       "   'field': 'dynamicproperties'},\n",
       "  {'start': 70,\n",
       "   'end': 84,\n",
       "   'units': None,\n",
       "   'value': 12.4,\n",
       "   'units_inferred': True,\n",
       "   'field': 'dynamicproperties'}]}"
      ]
     },
     "execution_count": 8,
     "metadata": {},
     "output_type": "execute_result"
    }
   ],
   "source": [
    "data[10]"
   ]
  },
  {
   "cell_type": "markdown",
   "metadata": {},
   "source": [
    "## Normalize Life Stage"
   ]
  },
  {
   "cell_type": "code",
   "execution_count": 9,
   "metadata": {},
   "outputs": [
    {
     "name": "stdout",
     "output_type": "stream",
     "text": [
      "(314, 5)\n"
     ]
    },
    {
     "data": {
      "text/html": [
       "<div>\n",
       "<style scoped>\n",
       "    .dataframe tbody tr th:only-of-type {\n",
       "        vertical-align: middle;\n",
       "    }\n",
       "\n",
       "    .dataframe tbody tr th {\n",
       "        vertical-align: top;\n",
       "    }\n",
       "\n",
       "    .dataframe thead th {\n",
       "        text-align: right;\n",
       "    }\n",
       "</style>\n",
       "<table border=\"1\" class=\"dataframe\">\n",
       "  <thead>\n",
       "    <tr style=\"text-align: right;\">\n",
       "      <th></th>\n",
       "      <th>label</th>\n",
       "      <th>pattern</th>\n",
       "      <th>attr</th>\n",
       "      <th>replace</th>\n",
       "      <th>notes</th>\n",
       "    </tr>\n",
       "  </thead>\n",
       "  <tbody>\n",
       "    <tr>\n",
       "      <th>0</th>\n",
       "      <td>life_stage</td>\n",
       "      <td>[imm]</td>\n",
       "      <td>lower</td>\n",
       "      <td>Juvenile</td>\n",
       "      <td></td>\n",
       "    </tr>\n",
       "    <tr>\n",
       "      <th>1</th>\n",
       "      <td>life_stage</td>\n",
       "      <td>1 mo</td>\n",
       "      <td>lower</td>\n",
       "      <td>Juvenile</td>\n",
       "      <td></td>\n",
       "    </tr>\n",
       "    <tr>\n",
       "      <th>2</th>\n",
       "      <td>life_stage</td>\n",
       "      <td>100% ossified</td>\n",
       "      <td>lower</td>\n",
       "      <td>Adult</td>\n",
       "      <td></td>\n",
       "    </tr>\n",
       "    <tr>\n",
       "      <th>3</th>\n",
       "      <td>life_stage</td>\n",
       "      <td>1st winter</td>\n",
       "      <td>lower</td>\n",
       "      <td>Juvenile</td>\n",
       "      <td></td>\n",
       "    </tr>\n",
       "    <tr>\n",
       "      <th>4</th>\n",
       "      <td>life_stage</td>\n",
       "      <td>1st year</td>\n",
       "      <td>lower</td>\n",
       "      <td>Juvenile</td>\n",
       "      <td></td>\n",
       "    </tr>\n",
       "  </tbody>\n",
       "</table>\n",
       "</div>"
      ],
      "text/plain": [
       "        label        pattern   attr   replace notes\n",
       "0  life_stage          [imm]  lower  Juvenile      \n",
       "1  life_stage           1 mo  lower  Juvenile      \n",
       "2  life_stage  100% ossified  lower     Adult      \n",
       "3  life_stage     1st winter  lower  Juvenile      \n",
       "4  life_stage       1st year  lower  Juvenile      "
      ]
     },
     "execution_count": 9,
     "metadata": {},
     "output_type": "execute_result"
    }
   ],
   "source": [
    "terms = pd.read_csv(TERMS).fillna('')\n",
    "\n",
    "print(terms.shape)\n",
    "terms.head()"
   ]
  },
  {
   "cell_type": "code",
   "execution_count": 10,
   "metadata": {},
   "outputs": [
    {
     "name": "stdout",
     "output_type": "stream",
     "text": [
      "(314, 5)\n"
     ]
    },
    {
     "data": {
      "text/html": [
       "<div>\n",
       "<style scoped>\n",
       "    .dataframe tbody tr th:only-of-type {\n",
       "        vertical-align: middle;\n",
       "    }\n",
       "\n",
       "    .dataframe tbody tr th {\n",
       "        vertical-align: top;\n",
       "    }\n",
       "\n",
       "    .dataframe thead th {\n",
       "        text-align: right;\n",
       "    }\n",
       "</style>\n",
       "<table border=\"1\" class=\"dataframe\">\n",
       "  <thead>\n",
       "    <tr style=\"text-align: right;\">\n",
       "      <th></th>\n",
       "      <th>label</th>\n",
       "      <th>pattern</th>\n",
       "      <th>attr</th>\n",
       "      <th>replace</th>\n",
       "      <th>notes</th>\n",
       "    </tr>\n",
       "  </thead>\n",
       "  <tbody>\n",
       "    <tr>\n",
       "      <th>0</th>\n",
       "      <td>life_stage</td>\n",
       "      <td>[imm]</td>\n",
       "      <td>lower</td>\n",
       "      <td>Juvenile</td>\n",
       "      <td></td>\n",
       "    </tr>\n",
       "    <tr>\n",
       "      <th>1</th>\n",
       "      <td>life_stage</td>\n",
       "      <td>1 mo</td>\n",
       "      <td>lower</td>\n",
       "      <td>Juvenile</td>\n",
       "      <td></td>\n",
       "    </tr>\n",
       "    <tr>\n",
       "      <th>2</th>\n",
       "      <td>life_stage</td>\n",
       "      <td>100% ossified</td>\n",
       "      <td>lower</td>\n",
       "      <td>Adult</td>\n",
       "      <td></td>\n",
       "    </tr>\n",
       "    <tr>\n",
       "      <th>3</th>\n",
       "      <td>life_stage</td>\n",
       "      <td>1st winter</td>\n",
       "      <td>lower</td>\n",
       "      <td>Juvenile</td>\n",
       "      <td></td>\n",
       "    </tr>\n",
       "    <tr>\n",
       "      <th>4</th>\n",
       "      <td>life_stage</td>\n",
       "      <td>1st year</td>\n",
       "      <td>lower</td>\n",
       "      <td>Juvenile</td>\n",
       "      <td></td>\n",
       "    </tr>\n",
       "  </tbody>\n",
       "</table>\n",
       "</div>"
      ],
      "text/plain": [
       "        label        pattern   attr   replace notes\n",
       "0  life_stage          [imm]  lower  Juvenile      \n",
       "1  life_stage           1 mo  lower  Juvenile      \n",
       "2  life_stage  100% ossified  lower     Adult      \n",
       "3  life_stage     1st winter  lower  Juvenile      \n",
       "4  life_stage       1st year  lower  Juvenile      "
      ]
     },
     "execution_count": 10,
     "metadata": {},
     "output_type": "execute_result"
    }
   ],
   "source": [
    "terms = terms.drop_duplicates()\n",
    "\n",
    "print(terms.shape)\n",
    "terms.head()"
   ]
  },
  {
   "cell_type": "code",
   "execution_count": 11,
   "metadata": {},
   "outputs": [
    {
     "name": "stdout",
     "output_type": "stream",
     "text": [
      "(314, 5)\n"
     ]
    },
    {
     "data": {
      "text/html": [
       "<div>\n",
       "<style scoped>\n",
       "    .dataframe tbody tr th:only-of-type {\n",
       "        vertical-align: middle;\n",
       "    }\n",
       "\n",
       "    .dataframe tbody tr th {\n",
       "        vertical-align: top;\n",
       "    }\n",
       "\n",
       "    .dataframe thead th {\n",
       "        text-align: right;\n",
       "    }\n",
       "</style>\n",
       "<table border=\"1\" class=\"dataframe\">\n",
       "  <thead>\n",
       "    <tr style=\"text-align: right;\">\n",
       "      <th></th>\n",
       "      <th>label</th>\n",
       "      <th>pattern</th>\n",
       "      <th>attr</th>\n",
       "      <th>replace</th>\n",
       "      <th>notes</th>\n",
       "    </tr>\n",
       "  </thead>\n",
       "  <tbody>\n",
       "    <tr>\n",
       "      <th>0</th>\n",
       "      <td>life_stage</td>\n",
       "      <td>[imm]</td>\n",
       "      <td>lower</td>\n",
       "      <td>Juvenile</td>\n",
       "      <td></td>\n",
       "    </tr>\n",
       "    <tr>\n",
       "      <th>1</th>\n",
       "      <td>life_stage</td>\n",
       "      <td>1 mo</td>\n",
       "      <td>lower</td>\n",
       "      <td>Juvenile</td>\n",
       "      <td></td>\n",
       "    </tr>\n",
       "    <tr>\n",
       "      <th>2</th>\n",
       "      <td>life_stage</td>\n",
       "      <td>100% ossified</td>\n",
       "      <td>lower</td>\n",
       "      <td>Adult</td>\n",
       "      <td></td>\n",
       "    </tr>\n",
       "    <tr>\n",
       "      <th>3</th>\n",
       "      <td>life_stage</td>\n",
       "      <td>1st winter</td>\n",
       "      <td>lower</td>\n",
       "      <td>Juvenile</td>\n",
       "      <td></td>\n",
       "    </tr>\n",
       "    <tr>\n",
       "      <th>4</th>\n",
       "      <td>life_stage</td>\n",
       "      <td>1st year</td>\n",
       "      <td>lower</td>\n",
       "      <td>Juvenile</td>\n",
       "      <td></td>\n",
       "    </tr>\n",
       "  </tbody>\n",
       "</table>\n",
       "</div>"
      ],
      "text/plain": [
       "        label        pattern   attr   replace notes\n",
       "0  life_stage          [imm]  lower  Juvenile      \n",
       "1  life_stage           1 mo  lower  Juvenile      \n",
       "2  life_stage  100% ossified  lower     Adult      \n",
       "3  life_stage     1st winter  lower  Juvenile      \n",
       "4  life_stage       1st year  lower  Juvenile      "
      ]
     },
     "execution_count": 11,
     "metadata": {},
     "output_type": "execute_result"
    }
   ],
   "source": [
    "terms = terms[terms['replace'] != 'NS']\n",
    "\n",
    "print(terms.shape)\n",
    "terms.head()"
   ]
  },
  {
   "cell_type": "code",
   "execution_count": 12,
   "metadata": {},
   "outputs": [],
   "source": [
    "# terms.to_csv(TERMS, index=False)"
   ]
  },
  {
   "cell_type": "code",
   "execution_count": 13,
   "metadata": {},
   "outputs": [
    {
     "data": {
      "text/plain": [
       "314"
      ]
     },
     "execution_count": 13,
     "metadata": {},
     "output_type": "execute_result"
    }
   ],
   "source": [
    "life_stages = {r['pattern']: r['replace'] for _, r in terms.iterrows()}\n",
    "len(life_stages)"
   ]
  },
  {
   "cell_type": "code",
   "execution_count": 14,
   "metadata": {},
   "outputs": [],
   "source": [
    "for row in data:\n",
    "    lifestage = row.get('lifestage')\n",
    "    if lifestage:\n",
    "        row['lifestage_cor'] = life_stages.get(lifestage, 'NS')"
   ]
  },
  {
   "cell_type": "markdown",
   "metadata": {},
   "source": [
    "## Get sex notations"
   ]
  },
  {
   "cell_type": "code",
   "execution_count": 15,
   "metadata": {
    "ExecuteTime": {
     "end_time": "2020-08-12T16:23:29.382802Z",
     "start_time": "2020-08-12T16:23:29.344054Z"
    },
    "scrolled": true
   },
   "outputs": [
    {
     "data": {
      "text/plain": [
       "{'',\n",
       " 'f?',\n",
       " 'female',\n",
       " 'female ?',\n",
       " 'female; male',\n",
       " 'in question',\n",
       " 'm?',\n",
       " 'male',\n",
       " 'male ?',\n",
       " 'males,females',\n",
       " 'undetermined',\n",
       " 'x'}"
      ]
     },
     "execution_count": 15,
     "metadata": {},
     "output_type": "execute_result"
    }
   ],
   "source": [
    "sexes = set()\n",
    "for row in data:\n",
    "    sex = row.get('sex', '')\n",
    "    if isinstance(sex, list):\n",
    "        sex = sex[0]\n",
    "    if isinstance(sex, dict):\n",
    "        sex = sex.get('value', '')\n",
    "    sexes.add(sex)\n",
    "sexes"
   ]
  },
  {
   "cell_type": "markdown",
   "metadata": {},
   "source": [
    "## Update sex fields"
   ]
  },
  {
   "cell_type": "code",
   "execution_count": 16,
   "metadata": {},
   "outputs": [],
   "source": [
    "for row in data:\n",
    "    sex = row.get('sex', '')\n",
    "    if isinstance(sex, list):\n",
    "        sex = sex[0]\n",
    "    if isinstance(sex, dict):\n",
    "        sex = sex.get('value', '')\n",
    "    sex = re.split(r'[;,]', sex)\n",
    "    sex = {s.strip() for s in sex}\n",
    "    row['sex'] = '; '.join(sex)"
   ]
  },
  {
   "cell_type": "markdown",
   "metadata": {},
   "source": [
    "## Remove female traits from males and vice versa"
   ]
  },
  {
   "cell_type": "code",
   "execution_count": 17,
   "metadata": {
    "ExecuteTime": {
     "end_time": "2020-08-12T16:23:29.453033Z",
     "start_time": "2020-08-12T16:23:29.384300Z"
    }
   },
   "outputs": [],
   "source": [
    "for row in data:\n",
    "    sex = row.get('sex')\n",
    "\n",
    "    if not sex or ';' in sex or sex[0] not in 'fm':\n",
    "        continue\n",
    "\n",
    "    remove = MALE if sex[0] == 'f' else FEMALE\n",
    "    for key in remove:\n",
    "        if key in row:\n",
    "            del row[key]"
   ]
  },
  {
   "cell_type": "markdown",
   "metadata": {},
   "source": [
    "## Only sex traits in reproductive condition"
   ]
  },
  {
   "cell_type": "code",
   "execution_count": 18,
   "metadata": {
    "ExecuteTime": {
     "end_time": "2020-08-12T16:23:29.553556Z",
     "start_time": "2020-08-12T16:23:29.454313Z"
    }
   },
   "outputs": [],
   "source": [
    "for row in data:\n",
    "    for key in BODY:\n",
    "\n",
    "        if key not in row:\n",
    "            continue\n",
    "\n",
    "        # Remove body traits found in reproductive condition\n",
    "        for trait in row[key]:\n",
    "            if trait['field'] == 'reproductivecondition':\n",
    "                del trait"
   ]
  },
  {
   "cell_type": "markdown",
   "metadata": {},
   "source": [
    "## Get max counts of extracted items"
   ]
  },
  {
   "cell_type": "code",
   "execution_count": 19,
   "metadata": {},
   "outputs": [
    {
     "name": "stdout",
     "output_type": "stream",
     "text": [
      "body_mass 3\n",
      "ear_length 3\n",
      "embryo_count 4\n",
      "embryo_length 4\n",
      "forearm_length 3\n",
      "hind_foot_length 3\n",
      "lactation_state 2\n",
      "nipple_count 2\n",
      "nipple_state 2\n",
      "nipples_enlarged 2\n",
      "ovaries_size 4\n",
      "ovaries_state 1\n",
      "placental_scar_count 2\n",
      "placental_scar_state 2\n",
      "pregnancy_state 2\n",
      "scrotal_state 2\n",
      "tail_length 4\n",
      "testes_size 4\n",
      "testes_state 2\n",
      "total_length 4\n",
      "tragus_length 3\n",
      "vagina_state 2\n"
     ]
    }
   ],
   "source": [
    "counts = defaultdict(int)\n",
    "for row in data:\n",
    "    for field in TRAITS:\n",
    "        value = row.get(field, {})\n",
    "        count = 1 if isinstance(value, dict) else len(value)\n",
    "        counts[field] = max(counts[field], count)\n",
    "\n",
    "for key, value in counts.items():\n",
    "    print(key, value)"
   ]
  },
  {
   "cell_type": "markdown",
   "metadata": {},
   "source": [
    "## Remove traits with too many values"
   ]
  },
  {
   "cell_type": "code",
   "execution_count": 20,
   "metadata": {},
   "outputs": [],
   "source": [
    "MAX_COUNT = 5\n",
    "\n",
    "for row in data:\n",
    "    for trait_name in TRAITS:\n",
    "        trait = row.get(trait_name)\n",
    "        if isinstance(trait, list) and len(trait) > MAX_COUNT:\n",
    "            del row[trait_name]"
   ]
  },
  {
   "cell_type": "markdown",
   "metadata": {},
   "source": [
    "## Remove empty traits"
   ]
  },
  {
   "cell_type": "code",
   "execution_count": 21,
   "metadata": {
    "ExecuteTime": {
     "end_time": "2020-08-12T16:23:29.686791Z",
     "start_time": "2020-08-12T16:23:29.554720Z"
    }
   },
   "outputs": [],
   "source": [
    "for row in data:\n",
    "    for key in TRAITS:\n",
    "        if key in row and not row[key]:\n",
    "            del row[key]"
   ]
  },
  {
   "cell_type": "markdown",
   "metadata": {},
   "source": [
    "## Remove empty records"
   ]
  },
  {
   "cell_type": "code",
   "execution_count": 22,
   "metadata": {
    "ExecuteTime": {
     "end_time": "2020-08-12T16:23:29.760301Z",
     "start_time": "2020-08-12T16:23:29.688260Z"
    }
   },
   "outputs": [
    {
     "name": "stdout",
     "output_type": "stream",
     "text": [
      "72376\n",
      "72210\n"
     ]
    }
   ],
   "source": [
    "print(len(data))\n",
    "\n",
    "data = [d for d in data if any(d.get(t) for t in TRAITS)]\n",
    "\n",
    "print(len(data))"
   ]
  },
  {
   "cell_type": "markdown",
   "metadata": {},
   "source": [
    "## Separate gonad length and width measurements"
   ]
  },
  {
   "cell_type": "code",
   "execution_count": 23,
   "metadata": {},
   "outputs": [],
   "source": [
    "# for row in data:\n",
    "#     for trait_name in [t for t in GONAD_SIZE if t in row]:\n",
    "#         for trait in row[trait_name]:\n",
    "#             if isinstance(trait['value'], list):\n",
    "#                 trait['length'], trait['width'] = trait['value']\n",
    "#             elif trait.get('dimension') == 'width':\n",
    "#                 trait['length'] = ''\n",
    "#                 trait['width'] = trait['value']\n",
    "#             else:\n",
    "#                 trait['length'] = trait['value']\n",
    "#                 trait['width'] = ''\n",
    "\n",
    "#             del trait['value']"
   ]
  },
  {
   "cell_type": "markdown",
   "metadata": {},
   "source": [
    "## Get the maximum gonad length and width measurements"
   ]
  },
  {
   "cell_type": "code",
   "execution_count": 24,
   "metadata": {},
   "outputs": [],
   "source": [
    "GONAD_SIZE = \"\"\" testes_size ovaries_size \"\"\".split()"
   ]
  },
  {
   "cell_type": "code",
   "execution_count": 25,
   "metadata": {},
   "outputs": [],
   "source": [
    "for row in data:\n",
    "\n",
    "    row['max_testes_length'] = 0\n",
    "    row['max_testes_width'] = 0\n",
    "    row['max_ovaries_length'] = 0\n",
    "    row['max_ovaries_width'] = 0\n",
    "\n",
    "    for trait_name in [t for t in GONAD_SIZE if t in row]:\n",
    "        for trait in row[trait_name]:\n",
    "            gonad = trait_name.split('_')[0]\n",
    "\n",
    "            len_key = f'max_{gonad}_length'\n",
    "            wid_key = f'max_{gonad}_width'\n",
    "\n",
    "            # The trait has both a length and a width\n",
    "            if isinstance(trait['value'], list):\n",
    "                length, width = trait['value']\n",
    "                row[len_key] = max(row[len_key], length)\n",
    "                row[wid_key] = max(row[wid_key], width)\n",
    "\n",
    "            # The trait has only a width\n",
    "            elif trait.get('dimension') == 'width':\n",
    "                row[wid_key] = max(row[wid_key], width)\n",
    "\n",
    "            # The trait has only a length\n",
    "            else:\n",
    "                row[len_key] = max(row[len_key], length)\n",
    "\n",
    "    row['max_testes_length'] = row['max_testes_length'] if row['max_testes_length'] else ''\n",
    "    row['max_testes_width'] = row['max_testes_width'] if row['max_testes_width'] else ''\n",
    "    row['max_ovaries_length'] = row['max_ovaries_length'] if row['max_ovaries_length'] else ''\n",
    "    row['max_ovaries_width'] = row['max_ovaries_width'] if row['max_ovaries_width'] else ''"
   ]
  },
  {
   "cell_type": "markdown",
   "metadata": {},
   "source": [
    "## Combine duplicate extractions\n",
    "\n",
    "The same trait values may be written in multiple locations or in different fields"
   ]
  },
  {
   "cell_type": "code",
   "execution_count": 26,
   "metadata": {},
   "outputs": [],
   "source": [
    "for row in data:\n",
    "    \n",
    "    for trait_name in [t for t in TRAITS if t in row]:\n",
    "        \n",
    "        trait_dict = {}\n",
    "        \n",
    "        for trait in row[trait_name]:\n",
    "        \n",
    "            loc = {k: v for k, v in trait.items() if k in LOC}\n",
    "            fld = {k: v for k, v in trait.items() if k not in LOC}\n",
    "\n",
    "            # Build a key out of the non-location fields\n",
    "            key = [(k, tuple(v) if isinstance(v, list) else v)\n",
    "                   for k, v in fld.items()]\n",
    "            key = tuple(sorted(key))\n",
    "            \n",
    "            # Append a location if this is a duplicate\n",
    "            if key in trait_dict:\n",
    "                trait_dict[key]['location'].append(loc)\n",
    "\n",
    "            # Create a new record if this is not a duplicate\n",
    "            else:\n",
    "                trait_dict[key] = fld\n",
    "                trait_dict[key]['location'] = [loc]\n",
    "        \n",
    "        # Update the extraction\n",
    "        values = [v for v in trait_dict.values()]\n",
    "        row[trait_name] = values[0] if len(values) == 1 else values"
   ]
  },
  {
   "cell_type": "markdown",
   "metadata": {},
   "source": [
    "## Merge the trait locations into a set"
   ]
  },
  {
   "cell_type": "code",
   "execution_count": 27,
   "metadata": {},
   "outputs": [],
   "source": [
    "for row in data:\n",
    "    locations = set()\n",
    "\n",
    "    for trait_name in [t for t in TRAITS if t in row]:\n",
    "        if not isinstance(row[trait_name], list):\n",
    "            row[trait_name] = [row[trait_name]]\n",
    "        for trait in row[trait_name]:\n",
    "            for loc in trait['location']:\n",
    "                locations.add(loc['field'])\n",
    "\n",
    "    row['loc'] = ' '.join(sorted(locations))"
   ]
  },
  {
   "cell_type": "markdown",
   "metadata": {},
   "source": [
    "## Remove unwanted columns and values"
   ]
  },
  {
   "cell_type": "code",
   "execution_count": 28,
   "metadata": {},
   "outputs": [],
   "source": [
    "for row in data:\n",
    "\n",
    "    for trait_name in [t for t in TRAITS if t in row]:\n",
    "        \n",
    "        # Remove gonad sizes because they only want the max values\n",
    "        if trait_name in GONAD_SIZE:\n",
    "            del row[trait_name]\n",
    "        # Just keep the first value? Seems odd to me\n",
    "        else:\n",
    "            row[trait_name] = row[trait_name][0]['value']"
   ]
  },
  {
   "cell_type": "markdown",
   "metadata": {},
   "source": [
    "## Add a binomial to the data"
   ]
  },
  {
   "cell_type": "code",
   "execution_count": 29,
   "metadata": {},
   "outputs": [],
   "source": [
    "for row in data:\n",
    "    binomial = row.get('scientificname', '').split()[:2]\n",
    "    binomial = ' '.join(binomial)\n",
    "    row['binomial'] = binomial"
   ]
  },
  {
   "cell_type": "markdown",
   "metadata": {},
   "source": [
    "## Count extracts by binomial"
   ]
  },
  {
   "cell_type": "code",
   "execution_count": 30,
   "metadata": {},
   "outputs": [],
   "source": [
    "binomials = defaultdict(lambda: defaultdict(int))\n",
    "\n",
    "for row in data:\n",
    "    for trait_name in TRAITS:\n",
    "        if row.get(trait_name):\n",
    "            binomials[row['binomial']][trait_name] += 1"
   ]
  },
  {
   "cell_type": "code",
   "execution_count": 31,
   "metadata": {},
   "outputs": [],
   "source": [
    "for binomial, count in binomials.items():\n",
    "    count['binomial'] = binomial"
   ]
  },
  {
   "cell_type": "code",
   "execution_count": 32,
   "metadata": {},
   "outputs": [],
   "source": [
    "df = pd.DataFrame(binomials.values()).fillna(0)\n",
    "df = df.set_index('binomial')\n",
    "df = df.astype(int)\n",
    "df = df.sort_index()"
   ]
  },
  {
   "cell_type": "code",
   "execution_count": 33,
   "metadata": {},
   "outputs": [],
   "source": [
    "df.to_csv(COUNTS)"
   ]
  },
  {
   "cell_type": "code",
   "execution_count": 34,
   "metadata": {},
   "outputs": [
    {
     "data": {
      "text/html": [
       "<div>\n",
       "<style scoped>\n",
       "    .dataframe tbody tr th:only-of-type {\n",
       "        vertical-align: middle;\n",
       "    }\n",
       "\n",
       "    .dataframe tbody tr th {\n",
       "        vertical-align: top;\n",
       "    }\n",
       "\n",
       "    .dataframe thead th {\n",
       "        text-align: right;\n",
       "    }\n",
       "</style>\n",
       "<table border=\"1\" class=\"dataframe\">\n",
       "  <thead>\n",
       "    <tr style=\"text-align: right;\">\n",
       "      <th></th>\n",
       "      <th>lactation_state</th>\n",
       "      <th>pregnancy_state</th>\n",
       "      <th>ear_length</th>\n",
       "      <th>hind_foot_length</th>\n",
       "      <th>tail_length</th>\n",
       "      <th>total_length</th>\n",
       "      <th>body_mass</th>\n",
       "      <th>forearm_length</th>\n",
       "      <th>tragus_length</th>\n",
       "      <th>vagina_state</th>\n",
       "      <th>embryo_count</th>\n",
       "      <th>nipple_state</th>\n",
       "      <th>embryo_length</th>\n",
       "      <th>scrotal_state</th>\n",
       "      <th>placental_scar_count</th>\n",
       "      <th>placental_scar_state</th>\n",
       "      <th>testes_state</th>\n",
       "      <th>nipples_enlarged</th>\n",
       "      <th>nipple_count</th>\n",
       "      <th>ovaries_state</th>\n",
       "    </tr>\n",
       "    <tr>\n",
       "      <th>binomial</th>\n",
       "      <th></th>\n",
       "      <th></th>\n",
       "      <th></th>\n",
       "      <th></th>\n",
       "      <th></th>\n",
       "      <th></th>\n",
       "      <th></th>\n",
       "      <th></th>\n",
       "      <th></th>\n",
       "      <th></th>\n",
       "      <th></th>\n",
       "      <th></th>\n",
       "      <th></th>\n",
       "      <th></th>\n",
       "      <th></th>\n",
       "      <th></th>\n",
       "      <th></th>\n",
       "      <th></th>\n",
       "      <th></th>\n",
       "      <th></th>\n",
       "    </tr>\n",
       "  </thead>\n",
       "  <tbody>\n",
       "    <tr>\n",
       "      <th>Acerodon jubatus</th>\n",
       "      <td>0</td>\n",
       "      <td>0</td>\n",
       "      <td>1</td>\n",
       "      <td>1</td>\n",
       "      <td>0</td>\n",
       "      <td>1</td>\n",
       "      <td>1</td>\n",
       "      <td>1</td>\n",
       "      <td>0</td>\n",
       "      <td>0</td>\n",
       "      <td>0</td>\n",
       "      <td>0</td>\n",
       "      <td>0</td>\n",
       "      <td>0</td>\n",
       "      <td>0</td>\n",
       "      <td>0</td>\n",
       "      <td>0</td>\n",
       "      <td>0</td>\n",
       "      <td>0</td>\n",
       "      <td>0</td>\n",
       "    </tr>\n",
       "    <tr>\n",
       "      <th>Aethalops alecto</th>\n",
       "      <td>0</td>\n",
       "      <td>4</td>\n",
       "      <td>5</td>\n",
       "      <td>5</td>\n",
       "      <td>0</td>\n",
       "      <td>5</td>\n",
       "      <td>5</td>\n",
       "      <td>5</td>\n",
       "      <td>2</td>\n",
       "      <td>0</td>\n",
       "      <td>4</td>\n",
       "      <td>0</td>\n",
       "      <td>4</td>\n",
       "      <td>13</td>\n",
       "      <td>0</td>\n",
       "      <td>0</td>\n",
       "      <td>0</td>\n",
       "      <td>0</td>\n",
       "      <td>0</td>\n",
       "      <td>0</td>\n",
       "    </tr>\n",
       "    <tr>\n",
       "      <th>Ametrida centurio</th>\n",
       "      <td>6</td>\n",
       "      <td>24</td>\n",
       "      <td>18</td>\n",
       "      <td>18</td>\n",
       "      <td>0</td>\n",
       "      <td>18</td>\n",
       "      <td>17</td>\n",
       "      <td>1</td>\n",
       "      <td>2</td>\n",
       "      <td>0</td>\n",
       "      <td>33</td>\n",
       "      <td>0</td>\n",
       "      <td>35</td>\n",
       "      <td>10</td>\n",
       "      <td>0</td>\n",
       "      <td>0</td>\n",
       "      <td>1</td>\n",
       "      <td>0</td>\n",
       "      <td>0</td>\n",
       "      <td>0</td>\n",
       "    </tr>\n",
       "    <tr>\n",
       "      <th>Ametrida sp.</th>\n",
       "      <td>0</td>\n",
       "      <td>0</td>\n",
       "      <td>1</td>\n",
       "      <td>1</td>\n",
       "      <td>0</td>\n",
       "      <td>1</td>\n",
       "      <td>1</td>\n",
       "      <td>0</td>\n",
       "      <td>0</td>\n",
       "      <td>0</td>\n",
       "      <td>0</td>\n",
       "      <td>0</td>\n",
       "      <td>0</td>\n",
       "      <td>0</td>\n",
       "      <td>0</td>\n",
       "      <td>0</td>\n",
       "      <td>0</td>\n",
       "      <td>0</td>\n",
       "      <td>0</td>\n",
       "      <td>0</td>\n",
       "    </tr>\n",
       "    <tr>\n",
       "      <th>Anoura</th>\n",
       "      <td>0</td>\n",
       "      <td>0</td>\n",
       "      <td>5</td>\n",
       "      <td>5</td>\n",
       "      <td>0</td>\n",
       "      <td>5</td>\n",
       "      <td>5</td>\n",
       "      <td>1</td>\n",
       "      <td>1</td>\n",
       "      <td>0</td>\n",
       "      <td>0</td>\n",
       "      <td>0</td>\n",
       "      <td>0</td>\n",
       "      <td>0</td>\n",
       "      <td>0</td>\n",
       "      <td>0</td>\n",
       "      <td>0</td>\n",
       "      <td>0</td>\n",
       "      <td>0</td>\n",
       "      <td>0</td>\n",
       "    </tr>\n",
       "  </tbody>\n",
       "</table>\n",
       "</div>"
      ],
      "text/plain": [
       "                   lactation_state  pregnancy_state  ear_length  \\\n",
       "binomial                                                          \n",
       "Acerodon jubatus                 0                0           1   \n",
       "Aethalops alecto                 0                4           5   \n",
       "Ametrida centurio                6               24          18   \n",
       "Ametrida sp.                     0                0           1   \n",
       "Anoura                           0                0           5   \n",
       "\n",
       "                   hind_foot_length  tail_length  total_length  body_mass  \\\n",
       "binomial                                                                    \n",
       "Acerodon jubatus                  1            0             1          1   \n",
       "Aethalops alecto                  5            0             5          5   \n",
       "Ametrida centurio                18            0            18         17   \n",
       "Ametrida sp.                      1            0             1          1   \n",
       "Anoura                            5            0             5          5   \n",
       "\n",
       "                   forearm_length  tragus_length  vagina_state  embryo_count  \\\n",
       "binomial                                                                       \n",
       "Acerodon jubatus                1              0             0             0   \n",
       "Aethalops alecto                5              2             0             4   \n",
       "Ametrida centurio               1              2             0            33   \n",
       "Ametrida sp.                    0              0             0             0   \n",
       "Anoura                          1              1             0             0   \n",
       "\n",
       "                   nipple_state  embryo_length  scrotal_state  \\\n",
       "binomial                                                        \n",
       "Acerodon jubatus              0              0              0   \n",
       "Aethalops alecto              0              4             13   \n",
       "Ametrida centurio             0             35             10   \n",
       "Ametrida sp.                  0              0              0   \n",
       "Anoura                        0              0              0   \n",
       "\n",
       "                   placental_scar_count  placental_scar_state  testes_state  \\\n",
       "binomial                                                                      \n",
       "Acerodon jubatus                      0                     0             0   \n",
       "Aethalops alecto                      0                     0             0   \n",
       "Ametrida centurio                     0                     0             1   \n",
       "Ametrida sp.                          0                     0             0   \n",
       "Anoura                                0                     0             0   \n",
       "\n",
       "                   nipples_enlarged  nipple_count  ovaries_state  \n",
       "binomial                                                          \n",
       "Acerodon jubatus                  0             0              0  \n",
       "Aethalops alecto                  0             0              0  \n",
       "Ametrida centurio                 0             0              0  \n",
       "Ametrida sp.                      0             0              0  \n",
       "Anoura                            0             0              0  "
      ]
     },
     "execution_count": 34,
     "metadata": {},
     "output_type": "execute_result"
    }
   ],
   "source": [
    "df.head()"
   ]
  },
  {
   "cell_type": "markdown",
   "metadata": {},
   "source": [
    "## Pivot multiple extractions"
   ]
  },
  {
   "cell_type": "code",
   "execution_count": 35,
   "metadata": {
    "scrolled": false
   },
   "outputs": [
    {
     "name": "stdout",
     "output_type": "stream",
     "text": [
      "{'catalognumber': '88708',\n",
      " 'continent': 'North America',\n",
      " 'country': 'Canada',\n",
      " 'county': 'Algoma',\n",
      " 'decimallatitude': '47.35162',\n",
      " 'decimallongitude': '-84.63653',\n",
      " 'eventdate': '1983-07-25',\n",
      " 'geodeticdatum': 'NAD83',\n",
      " 'georeferencedby': 'Susan M Woodward (ROM)',\n",
      " 'georeferenceddate': '20090424',\n",
      " 'georeferenceprotocol': 'MaNIS/HerpNet/ORNIS Georeferencing Guidelines, GBIF '\n",
      "                         'Best Practices',\n",
      " 'georeferencesources': 'Energy, Mines and Resources Canada, Series A751, '\n",
      "                        'Agawa Bay, 41 N/07, 1:50,000, Edition 3, 1995',\n",
      " 'georeferenceverificationstatus': 'unverified',\n",
      " 'highergeography': 'North America; Canada; Ontario; Algoma',\n",
      " 'lifestage': 'adult',\n",
      " 'locality': 'Lake Superior Provincial Park, Abandoned Agawa Lodge, Agawa '\n",
      "             \"River Mouth, Trapline 'camp'\",\n",
      " 'locationremarks': 'No UTMG given so determined from topo map',\n",
      " 'occurrenceid': 'URI:catalog:ROM:Mammals:88708',\n",
      " 'recordedby': 'Bramwell, RN',\n",
      " 'reproductivecondition': 'not pregnant; not lactating',\n",
      " 'sex': 'female',\n",
      " 'verbatimcoordinates': '472100 N;0843700 W',\n",
      " 'verbatimeventdate': '19830725',\n",
      " 'verbatimlocality': 'Lake Superior Provincial Park, Abandoned Agawa Lodge, '\n",
      "                     \"Agawa River Mouth, Trapline 'camp'\",\n",
      " 'institutioncode': 'ROM',\n",
      " 'collectioncode': 'Mammals',\n",
      " 'scientificname': 'Myotis lucifugus',\n",
      " 'embryo_count': 0,\n",
      " 'lactation_state': 'not lactating',\n",
      " 'pregnancy_state': 'not pregnant',\n",
      " 'lifestage_cor': 'Adult',\n",
      " 'max_testes_length': '',\n",
      " 'max_testes_width': '',\n",
      " 'max_ovaries_length': '',\n",
      " 'max_ovaries_width': '',\n",
      " 'loc': 'reproductivecondition',\n",
      " 'binomial': 'Myotis lucifugus'}\n"
     ]
    }
   ],
   "source": [
    "pp(data[0])"
   ]
  },
  {
   "cell_type": "code",
   "execution_count": 36,
   "metadata": {},
   "outputs": [],
   "source": [
    "# for row in data:\n",
    "#     for trait_name in [t for t in TRAITS if t in row]:\n",
    "#         traits = row[trait_name]\n",
    "#         traits = traits if isinstance(traits, list) else [traits]\n",
    "#         for i, trait in enumerate(traits, 1):\n",
    "#             for key, value in trait.items():\n",
    "#                 new = f'{trait_name}.{i}.{key}'\n",
    "#                 if key == 'location':\n",
    "#                     row[new] = json.dumps(value)\n",
    "#                 elif isinstance(value, list):\n",
    "#                     row[new] = tuple(value)\n",
    "#                 else:\n",
    "#                     row[new] = value\n",
    "#         del row[trait_name]"
   ]
  },
  {
   "cell_type": "markdown",
   "metadata": {},
   "source": [
    "## Convert to data frame and remove duplicate records"
   ]
  },
  {
   "cell_type": "code",
   "execution_count": 37,
   "metadata": {},
   "outputs": [
    {
     "name": "stdout",
     "output_type": "stream",
     "text": [
      "(72210, 74)\n"
     ]
    }
   ],
   "source": [
    "df = pd.DataFrame(data)\n",
    "print(df.shape)\n",
    "\n",
    "# df = df.drop_duplicates()\n",
    "# print(df.shape)\n",
    "\n",
    "# columns = sorted(df.columns)\n",
    "# df = df.reindex(columns, axis='columns').fillna('')\n",
    "# print(df.shape)"
   ]
  },
  {
   "cell_type": "code",
   "execution_count": 38,
   "metadata": {},
   "outputs": [],
   "source": [
    "df.to_csv(OUTPUT, index=False)"
   ]
  },
  {
   "cell_type": "code",
   "execution_count": null,
   "metadata": {},
   "outputs": [],
   "source": []
  }
 ],
 "metadata": {
  "hide_input": false,
  "kernelspec": {
   "display_name": "Python 3 (ipykernel)",
   "language": "python",
   "name": "python3"
  },
  "language_info": {
   "codemirror_mode": {
    "name": "ipython",
    "version": 3
   },
   "file_extension": ".py",
   "mimetype": "text/x-python",
   "name": "python",
   "nbconvert_exporter": "python",
   "pygments_lexer": "ipython3",
   "version": "3.9.5"
  },
  "varInspector": {
   "cols": {
    "lenName": 16,
    "lenType": 16,
    "lenVar": 40
   },
   "kernels_config": {
    "python": {
     "delete_cmd_postfix": "",
     "delete_cmd_prefix": "del ",
     "library": "var_list.py",
     "varRefreshCmd": "print(var_dic_list())"
    },
    "r": {
     "delete_cmd_postfix": ") ",
     "delete_cmd_prefix": "rm(",
     "library": "var_list.r",
     "varRefreshCmd": "cat(var_dic_list()) "
    }
   },
   "types_to_exclude": [
    "module",
    "function",
    "builtin_function_or_method",
    "instance",
    "_Feature"
   ],
   "window_display": false
  }
 },
 "nbformat": 4,
 "nbformat_minor": 4
}
