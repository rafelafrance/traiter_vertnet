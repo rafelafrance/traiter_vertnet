{
 "cells": [
  {
   "cell_type": "code",
   "execution_count": 1,
   "id": "7ed8f4a5",
   "metadata": {},
   "outputs": [],
   "source": [
    "import sys\n",
    "sys.path.append('..')"
   ]
  },
  {
   "cell_type": "code",
   "execution_count": 2,
   "id": "2c3cce36",
   "metadata": {},
   "outputs": [],
   "source": [
    "import io\n",
    "import os\n",
    "import sqlite3\n",
    "import zipfile\n",
    "from pathlib import Path\n",
    "\n",
    "import pandas as pd\n",
    "import regex\n",
    "from tqdm import tqdm"
   ]
  },
  {
   "cell_type": "code",
   "execution_count": 3,
   "id": "6295fd63",
   "metadata": {},
   "outputs": [],
   "source": [
    "DATA_DIR = Path('..') / 'data'\n",
    "CSV = DATA_DIR / 'vertnet_latest_birds.csv'\n",
    "OUT = DATA_DIR / 'aves_lat_lon.csv'\n",
    "\n",
    "CHUNK = 1_000_000"
   ]
  },
  {
   "cell_type": "code",
   "execution_count": 4,
   "id": "7e2b304a",
   "metadata": {},
   "outputs": [
    {
     "name": "stderr",
     "output_type": "stream",
     "text": [
      "6it [00:46,  7.77s/it]\n"
     ]
    }
   ],
   "source": [
    "usecols = \"\"\" decimallatitude decimallongitude haslength hasmass \"\"\".split()\n",
    "\n",
    "reader = pd.read_csv(CSV, chunksize=CHUNK, usecols=usecols)\n",
    "\n",
    "first_time = True\n",
    "\n",
    "for df in tqdm(reader):\n",
    "    df = df.fillna(0)\n",
    "    keep = df['decimallatitude'] != 0\n",
    "    keep |= df['decimallongitude'] != 0\n",
    "    keep &= df['haslength'] | df['hasmass']\n",
    "    df = df.loc[keep, :]\n",
    "\n",
    "    if first_time:\n",
    "        df.to_csv(OUT, index=False)\n",
    "    else:\n",
    "        df.to_csv(OUT, index=False, mode='a', header=False)\n",
    "\n",
    "    first_time = False"
   ]
  },
  {
   "cell_type": "code",
   "execution_count": null,
   "id": "d95bc47e",
   "metadata": {},
   "outputs": [],
   "source": []
  },
  {
   "cell_type": "code",
   "execution_count": null,
   "id": "b690da03",
   "metadata": {},
   "outputs": [],
   "source": []
  },
  {
   "cell_type": "code",
   "execution_count": null,
   "id": "3f1e51ad",
   "metadata": {},
   "outputs": [],
   "source": []
  },
  {
   "cell_type": "code",
   "execution_count": null,
   "id": "e150a6c3",
   "metadata": {},
   "outputs": [],
   "source": []
  },
  {
   "cell_type": "code",
   "execution_count": null,
   "id": "717d0425",
   "metadata": {},
   "outputs": [],
   "source": []
  },
  {
   "cell_type": "code",
   "execution_count": null,
   "id": "0797aaba",
   "metadata": {},
   "outputs": [],
   "source": []
  },
  {
   "cell_type": "code",
   "execution_count": null,
   "id": "d42f10bc",
   "metadata": {},
   "outputs": [],
   "source": []
  },
  {
   "cell_type": "code",
   "execution_count": null,
   "id": "6b3ac6a8",
   "metadata": {},
   "outputs": [],
   "source": []
  }
 ],
 "metadata": {
  "hide_input": false,
  "kernelspec": {
   "display_name": "Python 3 (ipykernel)",
   "language": "python",
   "name": "python3"
  },
  "language_info": {
   "codemirror_mode": {
    "name": "ipython",
    "version": 3
   },
   "file_extension": ".py",
   "mimetype": "text/x-python",
   "name": "python",
   "nbconvert_exporter": "python",
   "pygments_lexer": "ipython3",
   "version": "3.10.6"
  },
  "varInspector": {
   "cols": {
    "lenName": 16,
    "lenType": 16,
    "lenVar": 40
   },
   "kernels_config": {
    "python": {
     "delete_cmd_postfix": "",
     "delete_cmd_prefix": "del ",
     "library": "var_list.py",
     "varRefreshCmd": "print(var_dic_list())"
    },
    "r": {
     "delete_cmd_postfix": ") ",
     "delete_cmd_prefix": "rm(",
     "library": "var_list.r",
     "varRefreshCmd": "cat(var_dic_list()) "
    }
   },
   "types_to_exclude": [
    "module",
    "function",
    "builtin_function_or_method",
    "instance",
    "_Feature"
   ],
   "window_display": false
  }
 },
 "nbformat": 4,
 "nbformat_minor": 5
}
